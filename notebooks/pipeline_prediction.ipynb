{
 "cells": [
  {
   "cell_type": "markdown",
   "metadata": {},
   "source": [
    "# Simple Prediction"
   ]
  },
  {
   "cell_type": "code",
   "execution_count": 77,
   "metadata": {},
   "outputs": [],
   "source": [
    "import pandas as pd\n",
    "import numpy as np\n",
    "\n",
    "from sklearn.model_selection import train_test_split, cross_val_score\n",
    "from sklearn.model_selection import GridSearchCV\n",
    "from sklearn.preprocessing import MinMaxScaler, Imputer\n",
    "from sklearn.linear_model import LogisticRegression\n",
    "from sklearn.ensemble import RandomForestClassifier\n",
    "from sklearn.pipeline import Pipeline, make_pipeline\n",
    "from sklearn.ensemble import VotingClassifier\n",
    "from sklearn.metrics import roc_auc_score\n",
    "\n",
    "from tempfile import mkdtemp\n",
    "from shutil import rmtree\n",
    "\n",
    "from matplotlib import pyplot as plt\n",
    "%matplotlib inline"
   ]
  },
  {
   "cell_type": "code",
   "execution_count": 78,
   "metadata": {},
   "outputs": [],
   "source": [
    "def submit(model, test_data, file_name='prediction.csv', predict_proba=False):\n",
    "    if predict_proba:\n",
    "        y_hat = model.predict_proba(test_data)[:, 1]\n",
    "    else:\n",
    "        y_hat = model.predict(test_data)\n",
    "        \n",
    "    submit = pd.DataFrame(y_hat, index=test.index, columns=['TARGET'])\n",
    "    submit.to_csv(f'submit/{file_name}', index=True)"
   ]
  },
  {
   "cell_type": "code",
   "execution_count": 79,
   "metadata": {},
   "outputs": [],
   "source": [
    "train = pd.read_csv('clean_data/train_eda.csv', index_col=0)\n",
    "test = pd.read_csv('clean_data/test_eda.csv', index_col=0)"
   ]
  },
  {
   "cell_type": "code",
   "execution_count": 101,
   "metadata": {},
   "outputs": [],
   "source": [
    "estimators = [\n",
    "    ('impute', Imputer(strategy='median')),\n",
    "    ('scale', MinMaxScaler(feature_range=(0,1))),\n",
    "    ('logistic regression', LogisticRegression(penalty='l1'))\n",
    "]\n",
    "\n",
    "p1 = Pipeline(estimators)"
   ]
  },
  {
   "cell_type": "code",
   "execution_count": 102,
   "metadata": {},
   "outputs": [],
   "source": [
    "rf = RandomForestClassifier(\n",
    "    n_estimators=100,\n",
    "    random_state=50,\n",
    "    n_jobs=-1\n",
    ")\n",
    "\n",
    "estimators = [\n",
    "    ('impute', Imputer(strategy='median')),\n",
    "    ('scale', MinMaxScaler(feature_range=(0,1))),\n",
    "    ('random_forest', rf)\n",
    "]\n",
    "\n",
    "p2 = Pipeline(estimators)"
   ]
  },
  {
   "cell_type": "code",
   "execution_count": 103,
   "metadata": {},
   "outputs": [],
   "source": [
    "estimators = [\n",
    "    ('voting', VotingClassifier(estimators=[\n",
    "        ('p1', p1),\n",
    "        ('p2', p2)\n",
    "    ],\n",
    "    voting='soft',\n",
    "    weights=[.7, .3]))\n",
    "]\n",
    "\n",
    "pipe = Pipeline(estimators)"
   ]
  },
  {
   "cell_type": "code",
   "execution_count": 90,
   "metadata": {},
   "outputs": [],
   "source": [
    "#cachedir = mkdtemp()\n",
    "#pipe = Pipeline(estimators, memory=cachedir)"
   ]
  },
  {
   "cell_type": "code",
   "execution_count": 91,
   "metadata": {},
   "outputs": [],
   "source": [
    "y_train = train.TARGET\n",
    "X_train = train.drop(columns='TARGET')"
   ]
  },
  {
   "cell_type": "code",
   "execution_count": 105,
   "metadata": {},
   "outputs": [
    {
     "data": {
      "text/plain": [
       "0.74377291422214975"
      ]
     },
     "execution_count": 105,
     "metadata": {},
     "output_type": "execute_result"
    }
   ],
   "source": [
    "scores = cross_val_score(pipe, X_train, y_train, cv=3, scoring='roc_auc')\n",
    "scores.mean()"
   ]
  },
  {
   "cell_type": "code",
   "execution_count": 107,
   "metadata": {},
   "outputs": [
    {
     "data": {
      "text/plain": [
       "0.99110593383218792"
      ]
     },
     "execution_count": 107,
     "metadata": {},
     "output_type": "execute_result"
    }
   ],
   "source": [
    "y = train.TARGET\n",
    "X = train.drop(columns='TARGET')\n",
    "\n",
    "X_train, X_test, y_train, y_test = train_test_split(X, y, test_size=0.3)\n",
    "\n",
    "pipe.fit(X_train, y_train)\n",
    "\n",
    "y_hat = pipe.predict_proba(X_train)[:, 1]\n",
    "roc_auc_score(y_train, y_hat)"
   ]
  },
  {
   "cell_type": "markdown",
   "metadata": {},
   "source": [
    "## Submit"
   ]
  },
  {
   "cell_type": "code",
   "execution_count": 74,
   "metadata": {},
   "outputs": [],
   "source": [
    "submit(pipe, test, 'logistic_regression_baseline.csv', predict_proba=True)"
   ]
  },
  {
   "cell_type": "code",
   "execution_count": null,
   "metadata": {},
   "outputs": [],
   "source": []
  }
 ],
 "metadata": {
  "kernelspec": {
   "display_name": "Python 3",
   "language": "python",
   "name": "python3"
  },
  "language_info": {
   "codemirror_mode": {
    "name": "ipython",
    "version": 3
   },
   "file_extension": ".py",
   "mimetype": "text/x-python",
   "name": "python",
   "nbconvert_exporter": "python",
   "pygments_lexer": "ipython3",
   "version": "3.6.5"
  }
 },
 "nbformat": 4,
 "nbformat_minor": 2
}
