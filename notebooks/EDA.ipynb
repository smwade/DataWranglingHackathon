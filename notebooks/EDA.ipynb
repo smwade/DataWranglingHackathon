{
 "cells": [
  {
   "cell_type": "markdown",
   "metadata": {},
   "source": [
    "# EDA"
   ]
  },
  {
   "cell_type": "code",
   "execution_count": 1,
   "metadata": {},
   "outputs": [],
   "source": [
    "import numpy as np\n",
    "import pandas as pd\n",
    "from sklearn.preprocessing import Imputer, PolynomialFeatures\n",
    "\n",
    "from matplotlib import pyplot as plt\n",
    "import seaborn as sns\n",
    "plt.style.use('fivethirtyeight')\n",
    "%matplotlib inline"
   ]
  },
  {
   "cell_type": "code",
   "execution_count": 2,
   "metadata": {},
   "outputs": [],
   "source": [
    "df = pd.read_csv('clean_data/train_merge.csv', index_col=0)\n",
    "df_test = pd.read_csv('clean_data/test_merge.csv', index_col=0)"
   ]
  },
  {
   "cell_type": "code",
   "execution_count": 3,
   "metadata": {},
   "outputs": [
    {
     "name": "stdout",
     "output_type": "stream",
     "text": [
      "Train:  (75000, 89)\n",
      "Test:   (25000, 88)\n"
     ]
    }
   ],
   "source": [
    "print('Train: ', df.shape)\n",
    "print('Test:  ', df_test.shape)"
   ]
  },
  {
   "cell_type": "code",
   "execution_count": 4,
   "metadata": {},
   "outputs": [
    {
     "data": {
      "image/png": "[encoded data removed]",
      "text/plain": [
       "<matplotlib.figure.Figure at 0x1137b1c88>"
      ]
     },
     "metadata": {},
     "output_type": "display_data"
    }
   ],
   "source": [
    "df.TARGET.plot.hist()\n",
    "plt.show()"
   ]
  },
  {
   "cell_type": "markdown",
   "metadata": {},
   "source": [
    "Note that the data is very imbalanced."
   ]
  },
  {
   "cell_type": "markdown",
   "metadata": {},
   "source": [
    "### Missing Values"
   ]
  },
  {
   "cell_type": "code",
   "execution_count": 5,
   "metadata": {},
   "outputs": [],
   "source": [
    "# Function to calculate missing values by column# Funct \n",
    "def missing_values_table(df):\n",
    "        # Total missing values\n",
    "        mis_val = df.isnull().sum()\n",
    "        \n",
    "        # Percentage of missing values\n",
    "        mis_val_percent = 100 * df.isnull().sum() / len(df)\n",
    "        \n",
    "        # Make a table with the results\n",
    "        mis_val_table = pd.concat([mis_val, mis_val_percent], axis=1)\n",
    "        \n",
    "        # Rename the columns\n",
    "        mis_val_table_ren_columns = mis_val_table.rename(\n",
    "        columns = {0 : 'Missing Values', 1 : '% of Total Values'})\n",
    "        \n",
    "        # Sort the table by percentage of missing descending\n",
    "        mis_val_table_ren_columns = mis_val_table_ren_columns[\n",
    "            mis_val_table_ren_columns.iloc[:,1] != 0].sort_values(\n",
    "        '% of Total Values', ascending=False).round(1)\n",
    "        \n",
    "        # Print some summary information\n",
    "        print (\"The data has\" + str(df.shape[1]) + \" columns.\\n\"      \n",
    "            \"There are \" + str(mis_val_table_ren_columns.shape[0]) +\n",
    "              \" columns that have missing values.\")\n",
    "        \n",
    "        # Return the dataframe with missing information\n",
    "        return mis_val_table_ren_columns"
   ]
  },
  {
   "cell_type": "code",
   "execution_count": 6,
   "metadata": {},
   "outputs": [
    {
     "name": "stdout",
     "output_type": "stream",
     "text": [
      "The data has89 columns.\n",
      "There are 40 columns that have missing values.\n"
     ]
    },
    {
     "data": {
      "text/html": [
       "<div>\n",
       "<style scoped>\n",
       "    .dataframe tbody tr th:only-of-type {\n",
       "        vertical-align: middle;\n",
       "    }\n",
       "\n",
       "    .dataframe tbody tr th {\n",
       "        vertical-align: top;\n",
       "    }\n",
       "\n",
       "    .dataframe thead th {\n",
       "        text-align: right;\n",
       "    }\n",
       "</style>\n",
       "<table border=\"1\" class=\"dataframe\">\n",
       "  <thead>\n",
       "    <tr style=\"text-align: right;\">\n",
       "      <th></th>\n",
       "      <th>Missing Values</th>\n",
       "      <th>% of Total Values</th>\n",
       "    </tr>\n",
       "  </thead>\n",
       "  <tbody>\n",
       "    <tr>\n",
       "      <th>COMMONAREA_MODE</th>\n",
       "      <td>52382</td>\n",
       "      <td>69.8</td>\n",
       "    </tr>\n",
       "    <tr>\n",
       "      <th>NONLIVINGAPARTMENTS_AVG</th>\n",
       "      <td>52003</td>\n",
       "      <td>69.3</td>\n",
       "    </tr>\n",
       "    <tr>\n",
       "      <th>FONDKAPREMONT_MODE</th>\n",
       "      <td>51184</td>\n",
       "      <td>68.2</td>\n",
       "    </tr>\n",
       "    <tr>\n",
       "      <th>FLOORSMIN_AVG</th>\n",
       "      <td>50791</td>\n",
       "      <td>67.7</td>\n",
       "    </tr>\n",
       "    <tr>\n",
       "      <th>FLOORSMIN_MODE</th>\n",
       "      <td>50791</td>\n",
       "      <td>67.7</td>\n",
       "    </tr>\n",
       "    <tr>\n",
       "      <th>YEARS_BUILD_AVG</th>\n",
       "      <td>49740</td>\n",
       "      <td>66.3</td>\n",
       "    </tr>\n",
       "    <tr>\n",
       "      <th>OWN_CAR_AGE</th>\n",
       "      <td>49468</td>\n",
       "      <td>66.0</td>\n",
       "    </tr>\n",
       "    <tr>\n",
       "      <th>LANDAREA_AVG</th>\n",
       "      <td>44522</td>\n",
       "      <td>59.4</td>\n",
       "    </tr>\n",
       "    <tr>\n",
       "      <th>BASEMENTAREA_AVG</th>\n",
       "      <td>43904</td>\n",
       "      <td>58.5</td>\n",
       "    </tr>\n",
       "    <tr>\n",
       "      <th>EXT_SOURCE_1</th>\n",
       "      <td>42213</td>\n",
       "      <td>56.3</td>\n",
       "    </tr>\n",
       "    <tr>\n",
       "      <th>NONLIVINGAREA_AVG</th>\n",
       "      <td>41237</td>\n",
       "      <td>55.0</td>\n",
       "    </tr>\n",
       "    <tr>\n",
       "      <th>ELEVATORS_AVG</th>\n",
       "      <td>39875</td>\n",
       "      <td>53.2</td>\n",
       "    </tr>\n",
       "    <tr>\n",
       "      <th>WALLSMATERIAL_MODE</th>\n",
       "      <td>38038</td>\n",
       "      <td>50.7</td>\n",
       "    </tr>\n",
       "    <tr>\n",
       "      <th>APARTMENTS_AVG</th>\n",
       "      <td>37989</td>\n",
       "      <td>50.7</td>\n",
       "    </tr>\n",
       "    <tr>\n",
       "      <th>ENTRANCES_AVG</th>\n",
       "      <td>37644</td>\n",
       "      <td>50.2</td>\n",
       "    </tr>\n",
       "    <tr>\n",
       "      <th>HOUSETYPE_MODE</th>\n",
       "      <td>37571</td>\n",
       "      <td>50.1</td>\n",
       "    </tr>\n",
       "    <tr>\n",
       "      <th>FLOORSMAX_MODE</th>\n",
       "      <td>37229</td>\n",
       "      <td>49.6</td>\n",
       "    </tr>\n",
       "    <tr>\n",
       "      <th>YEARS_BEGINEXPLUATATION_AVG</th>\n",
       "      <td>36560</td>\n",
       "      <td>48.7</td>\n",
       "    </tr>\n",
       "    <tr>\n",
       "      <th>TOTALAREA_MODE</th>\n",
       "      <td>36148</td>\n",
       "      <td>48.2</td>\n",
       "    </tr>\n",
       "    <tr>\n",
       "      <th>EMERGENCYSTATE_MODE</th>\n",
       "      <td>35521</td>\n",
       "      <td>47.4</td>\n",
       "    </tr>\n",
       "  </tbody>\n",
       "</table>\n",
       "</div>"
      ],
      "text/plain": [
       "                             Missing Values  % of Total Values\n",
       "COMMONAREA_MODE                       52382               69.8\n",
       "NONLIVINGAPARTMENTS_AVG               52003               69.3\n",
       "FONDKAPREMONT_MODE                    51184               68.2\n",
       "FLOORSMIN_AVG                         50791               67.7\n",
       "FLOORSMIN_MODE                        50791               67.7\n",
       "YEARS_BUILD_AVG                       49740               66.3\n",
       "OWN_CAR_AGE                           49468               66.0\n",
       "LANDAREA_AVG                          44522               59.4\n",
       "BASEMENTAREA_AVG                      43904               58.5\n",
       "EXT_SOURCE_1                          42213               56.3\n",
       "NONLIVINGAREA_AVG                     41237               55.0\n",
       "ELEVATORS_AVG                         39875               53.2\n",
       "WALLSMATERIAL_MODE                    38038               50.7\n",
       "APARTMENTS_AVG                        37989               50.7\n",
       "ENTRANCES_AVG                         37644               50.2\n",
       "HOUSETYPE_MODE                        37571               50.1\n",
       "FLOORSMAX_MODE                        37229               49.6\n",
       "YEARS_BEGINEXPLUATATION_AVG           36560               48.7\n",
       "TOTALAREA_MODE                        36148               48.2\n",
       "EMERGENCYSTATE_MODE                   35521               47.4"
      ]
     },
     "execution_count": 6,
     "metadata": {},
     "output_type": "execute_result"
    }
   ],
   "source": [
    "# Missing values statistics\n",
    "missing_values = missing_values_table(df)\n",
    "missing_values.head(20)"
   ]
  },
  {
   "cell_type": "markdown",
   "metadata": {},
   "source": [
    "### Types of Features"
   ]
  },
  {
   "cell_type": "code",
   "execution_count": 7,
   "metadata": {},
   "outputs": [],
   "source": [
    "numeric_cols = df.select_dtypes(['int', 'float']).columns.tolist()\n",
    "bool_cols = df.select_dtypes(['bool']).columns.tolist()\n",
    "obj_cols = df.select_dtypes(['object']).columns.tolist()"
   ]
  },
  {
   "cell_type": "code",
   "execution_count": 8,
   "metadata": {},
   "outputs": [
    {
     "name": "stdout",
     "output_type": "stream",
     "text": [
      "Numeric: 54\n",
      "Object: 13\n",
      "Bool: 22\n"
     ]
    }
   ],
   "source": [
    "print(f'Numeric: {len(numeric_cols)}')\n",
    "print(f'Object: {len(obj_cols)}')\n",
    "print(f'Bool: {len(bool_cols)}')"
   ]
  },
  {
   "cell_type": "markdown",
   "metadata": {},
   "source": [
    "## Numeric"
   ]
  },
  {
   "cell_type": "code",
   "execution_count": 9,
   "metadata": {
    "scrolled": true
   },
   "outputs": [
    {
     "data": {
      "text/plain": [
       "TARGET                             0\n",
       "AMT_REQ_CREDIT_BUREAU_QRT      10100\n",
       "APARTMENTS_AVG                 37989\n",
       "DAYS_BIRTH                         0\n",
       "EMERGENCYSTATE_MODE            35521\n",
       "OBS_30_CNT_SOCIAL_CIRCLE           0\n",
       "DEF_60_CNT_SOCIAL_CIRCLE         257\n",
       "DAYS_LAST_PHONE_CHANGE             0\n",
       "BASEMENTAREA_AVG               43904\n",
       "ENTRANCES_AVG                  37644\n",
       "CNT_CHILDREN                       0\n",
       "OWN_CAR_AGE                    49468\n",
       "TOTALAREA_MODE                 36148\n",
       "FLOORSMIN_AVG                  50791\n",
       "FLOORSMIN_MODE                 50791\n",
       "NONLIVINGAREA_AVG              41237\n",
       "LANDAREA_AVG                   44522\n",
       "DAYS_ID_PUBLISH                    0\n",
       "ELEVATORS_AVG                  39875\n",
       "COMMONAREA_MODE                52382\n",
       "AMT_REQ_CREDIT_BUREAU_HOUR     10100\n",
       "REGION_POPULATION_RELATIVE         0\n",
       "NONLIVINGAPARTMENTS_AVG        52003\n",
       "DAYS_EMPLOYED                      0\n",
       "CNT_FAM_MEMBERS                    1\n",
       "REGION_RATING_CLIENT_W_CITY        0\n",
       "EXT_SOURCE_1                   42213\n",
       "DAYS_REGISTRATION                  0\n",
       "EXT_SOURCE_3                   14791\n",
       "HOUR_APPR_PROCESS_START            0\n",
       "YEARS_BUILD_AVG                49740\n",
       "LIVE_CITY_NOT_WORK_CITY            0\n",
       "REG_CITY_NOT_LIVE_CITY             0\n",
       "AMT_GOODS_PRICE                    0\n",
       "AMT_ANNUITY                        2\n",
       "EXT_SOURCE_2                     150\n",
       "LIVINGAREA_AVG                     0\n",
       "REGION_RATING_CLIENT               0\n",
       "LIVE_REGION_NOT_WORK_REGION        0\n",
       "REG_REGION_NOT_LIVE_REGION         0\n",
       "AMT_REQ_CREDIT_BUREAU_WEEK     10100\n",
       "AMT_REQ_CREDIT_BUREAU_MON      10100\n",
       "FLOORSMAX_MODE                 37229\n",
       "FLAG_DOCUMENT_6                  388\n",
       "FLAG_OWN_REALTY                  388\n",
       "FLAG_DOCUMENT_3                  388\n",
       "FLAG_DOCUMENT_4                  388\n",
       "FLAG_DOCUMENT_18                 388\n",
       "AMT_REQ_CREDIT_BUREAU_DAY      10426\n",
       "DEF_30_CNT_SOCIAL_CIRCLE         257\n",
       "AMT_INCOME_TOTAL                   0\n",
       "REG_REGION_NOT_WORK_REGION         0\n",
       "OBS_60_CNT_SOCIAL_CIRCLE         257\n",
       "YEARS_BEGINEXPLUATATION_AVG    36560\n",
       "dtype: int64"
      ]
     },
     "execution_count": 9,
     "metadata": {},
     "output_type": "execute_result"
    }
   ],
   "source": [
    "df[numeric_cols].isna().sum()"
   ]
  },
  {
   "cell_type": "code",
   "execution_count": 10,
   "metadata": {},
   "outputs": [],
   "source": [
    "# replace all with the mean\n",
    "#df[numeric_cols] = df[numeric_cols].fillna(df[numeric_cols].mean())"
   ]
  },
  {
   "cell_type": "markdown",
   "metadata": {},
   "source": [
    "## Object"
   ]
  },
  {
   "cell_type": "code",
   "execution_count": 11,
   "metadata": {
    "scrolled": true
   },
   "outputs": [
    {
     "name": "stdout",
     "output_type": "stream",
     "text": [
      "NAME_EDUCATION_TYPE \n",
      " ------------------------------\n",
      "Secondary / secondary special    53126\n",
      "Higher education                 18353\n",
      "Incomplete higher                 2496\n",
      "Lower secondary                    990\n",
      "Academic degree                     35\n",
      "Name: NAME_EDUCATION_TYPE, dtype: int64\n",
      "\n",
      "\n",
      "NAME_INCOME_TYPE \n",
      " ------------------------------\n",
      "Working                 38757\n",
      "Commercial associate    17426\n",
      "Pensioner               13564\n",
      "State servant            5242\n",
      "Unemployed                  8\n",
      "Student                     2\n",
      "Maternity leave             1\n",
      "Name: NAME_INCOME_TYPE, dtype: int64\n",
      "\n",
      "\n",
      "FONDKAPREMONT_MODE \n",
      " ------------------------------\n",
      "reg oper account         17984\n",
      "reg oper spec account     2999\n",
      "not specified             1457\n",
      "org spec account          1376\n",
      "Name: FONDKAPREMONT_MODE, dtype: int64\n",
      "\n",
      "\n",
      "ORGANIZATION_TYPE \n",
      " ------------------------------\n",
      "Business Entity Type 3    16459\n",
      "XNA                       13569\n",
      "Self-employed              9415\n",
      "Other                      3981\n",
      "Medicine                   2832\n",
      "Business Entity Type 2     2618\n",
      "Government                 2476\n",
      "School                     2180\n",
      "Trade: type 7              1997\n",
      "Kindergarten               1679\n",
      "Construction               1629\n",
      "Business Entity Type 1     1446\n",
      "Transport: type 4          1282\n",
      "Industry: type 9            832\n",
      "Trade: type 3               813\n",
      "Security                    791\n",
      "Industry: type 3            781\n",
      "Housing                     698\n",
      "Military                    675\n",
      "Industry: type 11           652\n",
      "Agriculture                 621\n",
      "Bank                        605\n",
      "Transport: type 2           555\n",
      "Police                      553\n",
      "Postal                      518\n",
      "Security Ministries         511\n",
      "Trade: type 2               481\n",
      "Restaurant                  448\n",
      "Services                    397\n",
      "University                  338\n",
      "Industry: type 7            333\n",
      "Transport: type 3           293\n",
      "Industry: type 1            254\n",
      "Electricity                 241\n",
      "Hotel                       237\n",
      "Industry: type 4            208\n",
      "Trade: type 6               152\n",
      "Telecom                     144\n",
      "Insurance                   134\n",
      "Industry: type 5            134\n",
      "Emergency                   126\n",
      "Industry: type 2            111\n",
      "Advertising                  94\n",
      "Realtor                      90\n",
      "Culture                      90\n",
      "Mobile                       83\n",
      "Industry: type 12            78\n",
      "Legal Services               78\n",
      "Trade: type 1                74\n",
      "Cleaning                     64\n",
      "Transport: type 1            41\n",
      "Industry: type 10            28\n",
      "Industry: type 6             27\n",
      "Industry: type 13            16\n",
      "Religion                     16\n",
      "Trade: type 4                10\n",
      "Industry: type 8              6\n",
      "Trade: type 5                 6\n",
      "Name: ORGANIZATION_TYPE, dtype: int64\n",
      "\n",
      "\n",
      "HOUSETYPE_MODE \n",
      " ------------------------------\n",
      "block of flats      36774\n",
      "specific housing      374\n",
      "terraced house        281\n",
      "Name: HOUSETYPE_MODE, dtype: int64\n",
      "\n",
      "\n",
      "WEEKDAY_APPR_PROCESS_START \n",
      " ------------------------------\n",
      "TUESDAY      13210\n",
      "WEDNESDAY    12678\n",
      "THURSDAY     12441\n",
      "MONDAY       12363\n",
      "FRIDAY       12254\n",
      "SATURDAY      8174\n",
      "SUNDAY        3880\n",
      "Name: WEEKDAY_APPR_PROCESS_START, dtype: int64\n",
      "\n",
      "\n",
      "WALLSMATERIAL_MODE \n",
      " ------------------------------\n",
      "Panel           16029\n",
      "Stone, brick    16015\n",
      "Block            2255\n",
      "Wooden           1246\n",
      "Mixed             572\n",
      "Monolithic        441\n",
      "Others            404\n",
      "Name: WALLSMATERIAL_MODE, dtype: int64\n",
      "\n",
      "\n",
      "OCCUPATION_TYPE \n",
      " ------------------------------\n",
      "Laborers                 13484\n",
      "Sales staff               7747\n",
      "Core staff                6742\n",
      "Managers                  5156\n",
      "Drivers                   4566\n",
      "High skill tech staff     2794\n",
      "Accountants               2420\n",
      "Medicine staff            2090\n",
      "Security staff            1646\n",
      "Cooking staff             1440\n",
      "Cleaning staff            1112\n",
      "Private service staff      642\n",
      "Low-skill Laborers         526\n",
      "Secretaries                338\n",
      "Waiters/barmen staff       307\n",
      "Realty agents              200\n",
      "HR staff                   142\n",
      "IT staff                   134\n",
      "Name: OCCUPATION_TYPE, dtype: int64\n",
      "\n",
      "\n",
      "OCCUPATION_TYPE.1 \n",
      " ------------------------------\n",
      "Laborers                 13484\n",
      "Sales staff               7747\n",
      "Core staff                6742\n",
      "Managers                  5156\n",
      "Drivers                   4566\n",
      "High skill tech staff     2794\n",
      "Accountants               2420\n",
      "Medicine staff            2090\n",
      "Security staff            1646\n",
      "Cooking staff             1440\n",
      "Cleaning staff            1112\n",
      "Private service staff      642\n",
      "Low-skill Laborers         526\n",
      "Secretaries                338\n",
      "Waiters/barmen staff       307\n",
      "Realty agents              200\n",
      "HR staff                   142\n",
      "IT staff                   134\n",
      "Name: OCCUPATION_TYPE.1, dtype: int64\n",
      "\n",
      "\n",
      "NAME_FAMILY_STATUS \n",
      " ------------------------------\n",
      "Married                 48090\n",
      "Single / not married    11099\n",
      "Civil marriage           7106\n",
      "Separated                4780\n",
      "Widow                    3924\n",
      "Unknown                     1\n",
      "Name: NAME_FAMILY_STATUS, dtype: int64\n",
      "\n",
      "\n",
      "NAME_HOUSING_TYPE \n",
      " ------------------------------\n",
      "House / apartment      66409\n",
      "With parents            3724\n",
      "Municipal apartment     2751\n",
      "Rented apartment        1210\n",
      "Office apartment         648\n",
      "Co-op apartment          258\n",
      "Name: NAME_HOUSING_TYPE, dtype: int64\n",
      "\n",
      "\n",
      "NAME_CONTRACT_TYPE \n",
      " ------------------------------\n",
      "Cash loans         67815\n",
      "Revolving loans     7185\n",
      "Name: NAME_CONTRACT_TYPE, dtype: int64\n",
      "\n",
      "\n",
      "NAME_TYPE_SUITE \n",
      " ------------------------------\n",
      "Unaccompanied      60374\n",
      "Family              9720\n",
      "Spouse, partner     2769\n",
      "Children             777\n",
      "Other_B              415\n",
      "ªQ¹«                 283\n",
      "CHINESE CHARS!       217\n",
      "Group of people       57\n",
      "Name: NAME_TYPE_SUITE, dtype: int64\n",
      "\n",
      "\n"
     ]
    }
   ],
   "source": [
    "for col in obj_cols:\n",
    "    print(col, '\\n', '-'*30)\n",
    "    print(df[col].value_counts())\n",
    "    print('\\n')"
   ]
  },
  {
   "cell_type": "code",
   "execution_count": 12,
   "metadata": {},
   "outputs": [],
   "source": [
    "for col in obj_cols:\n",
    "    df[col].fillna(\"NA_\" + col, inplace=True)\n",
    "    df_test[col].fillna(\"NA_\" + col, inplace=True)"
   ]
  },
  {
   "cell_type": "code",
   "execution_count": 13,
   "metadata": {},
   "outputs": [],
   "source": [
    "# Train\n",
    "df_onehot = pd.get_dummies(df[obj_cols], prefix='ONEHOT_')\n",
    "df_onehot.columns = df_onehot.columns.str.upper()\n",
    "\n",
    "df.drop(obj_cols, axis=1, inplace=True)\n",
    "df = pd.merge(df, df_onehot, left_index=True, right_index=True)\n",
    "\n",
    "# Test\n",
    "df_test_onehot = pd.get_dummies(df_test[obj_cols], prefix='ONEHOT_')\n",
    "df_test_onehot.columns = df_test_onehot.columns.str.upper()\n",
    "\n",
    "df_test.drop(obj_cols, axis=1, inplace=True)\n",
    "df_test = pd.merge(df_test, df_test_onehot, left_index=True, right_index=True)"
   ]
  },
  {
   "cell_type": "code",
   "execution_count": 14,
   "metadata": {},
   "outputs": [
    {
     "name": "stdout",
     "output_type": "stream",
     "text": [
      "Train:  (75000, 231)\n",
      "Test:   (25000, 227)\n"
     ]
    }
   ],
   "source": [
    "print('Train: ', df.shape)\n",
    "print('Test:  ', df_test.shape)"
   ]
  },
  {
   "cell_type": "markdown",
   "metadata": {},
   "source": [
    "Note these are not the same since there is data not represented in the testing set."
   ]
  },
  {
   "cell_type": "code",
   "execution_count": 15,
   "metadata": {},
   "outputs": [],
   "source": [
    "# align the dataframes\n",
    "train_lables = df['TARGET']\n",
    "df, df_test = df.align(df_test, join='inner', axis=1)\n",
    "\n",
    "# add back target from join\n",
    "df['TARGET'] = train_lables"
   ]
  },
  {
   "cell_type": "code",
   "execution_count": 16,
   "metadata": {},
   "outputs": [
    {
     "name": "stdout",
     "output_type": "stream",
     "text": [
      "Train:  (75000, 264)\n",
      "Test:   (25000, 263)\n"
     ]
    }
   ],
   "source": [
    "print('Train: ', df.shape)\n",
    "print('Test:  ', df_test.shape)"
   ]
  },
  {
   "cell_type": "markdown",
   "metadata": {},
   "source": [
    "### Anomalies"
   ]
  },
  {
   "cell_type": "code",
   "execution_count": 17,
   "metadata": {},
   "outputs": [
    {
     "data": {
      "text/plain": [
       "count    75000.000000\n",
       "mean        43.956013\n",
       "std         11.960561\n",
       "min         20.517808\n",
       "25%         34.004795\n",
       "50%         43.178082\n",
       "75%         53.950685\n",
       "max         69.041096\n",
       "Name: DAYS_BIRTH, dtype: float64"
      ]
     },
     "execution_count": 17,
     "metadata": {},
     "output_type": "execute_result"
    }
   ],
   "source": [
    "(df['DAYS_BIRTH'] / -365).describe()"
   ]
  },
  {
   "cell_type": "code",
   "execution_count": 18,
   "metadata": {},
   "outputs": [
    {
     "data": {
      "text/plain": [
       "count     75000.000000\n",
       "mean      64120.512867\n",
       "std      141538.466198\n",
       "min      -17546.000000\n",
       "25%       -2773.000000\n",
       "50%       -1218.000000\n",
       "75%        -292.000000\n",
       "max      365243.000000\n",
       "Name: DAYS_EMPLOYED, dtype: float64"
      ]
     },
     "execution_count": 18,
     "metadata": {},
     "output_type": "execute_result"
    }
   ],
   "source": [
    "df.DAYS_EMPLOYED.describe() # BAD DATA"
   ]
  },
  {
   "cell_type": "code",
   "execution_count": 19,
   "metadata": {},
   "outputs": [
    {
     "data": {
      "image/png": "[encoded data removed]",
      "text/plain": [
       "<matplotlib.figure.Figure at 0x112d6eba8>"
      ]
     },
     "metadata": {},
     "output_type": "display_data"
    }
   ],
   "source": [
    "df.DAYS_EMPLOYED.plot.hist()\n",
    "plt.show()"
   ]
  },
  {
   "cell_type": "code",
   "execution_count": 20,
   "metadata": {},
   "outputs": [
    {
     "name": "stdout",
     "output_type": "stream",
     "text": [
      "The non-anomalies default on 7.99% of loans\n",
      "The anomalies default on 7.99% of loans\n",
      "There are 75000 anomalous days of employment\n"
     ]
    }
   ],
   "source": [
    "anom = df[df['DAYS_EMPLOYED'] == 365243]\n",
    "non_anom = df[df['DAYS_EMPLOYED'] != 365243]\n",
    "\n",
    "\n",
    "print('The non-anomalies default on %0.2f%% of loans' % (100 * df['TARGET'].mean()))\n",
    "print('The anomalies default on %0.2f%% of loans' % (100 * df['TARGET'].mean()))\n",
    "print('There are %d anomalous days of employment' % len(df))"
   ]
  },
  {
   "cell_type": "code",
   "execution_count": 21,
   "metadata": {},
   "outputs": [],
   "source": [
    "# FIXME : impute choose better\n",
    "df['DAYS_EMPLOYED'] = df['DAYS_EMPLOYED'].replace({365243.000000: np.nan})\n",
    "\n",
    "df['DAYS_EMPLOYED_ANOM'] =  df[\"DAYS_EMPLOYED\"].isna()\n",
    "df_test['DAYS_EMPLOYED_ANOM'] =  df_test[\"DAYS_EMPLOYED\"].isna()\n",
    "\n",
    "df_test['DAYS_EMPLOYED'] = df_test['DAYS_EMPLOYED'].replace({365243.000000: np.nan})"
   ]
  },
  {
   "cell_type": "code",
   "execution_count": 22,
   "metadata": {},
   "outputs": [
    {
     "data": {
      "image/png": "[encoded data removed]",
      "text/plain": [
       "<matplotlib.figure.Figure at 0x1132aae80>"
      ]
     },
     "metadata": {},
     "output_type": "display_data"
    }
   ],
   "source": [
    "df.DAYS_EMPLOYED.plot.hist()\n",
    "plt.show()"
   ]
  },
  {
   "cell_type": "markdown",
   "metadata": {},
   "source": [
    "## Correlations"
   ]
  },
  {
   "cell_type": "code",
   "execution_count": 23,
   "metadata": {},
   "outputs": [
    {
     "data": {
      "text/plain": [
       "TARGET                                   1.000000\n",
       "EXT_SOURCE_3                             0.176517\n",
       "EXT_SOURCE_2                             0.163760\n",
       "EXT_SOURCE_1                             0.152267\n",
       "DAYS_BIRTH                               0.081412\n",
       "DAYS_EMPLOYED                            0.072865\n",
       "REGION_RATING_CLIENT_W_CITY              0.064241\n",
       "REGION_RATING_CLIENT                     0.061960\n",
       "ONEHOT__HIGHER EDUCATION                 0.059720\n",
       "DAYS_LAST_PHONE_CHANGE                   0.057873\n",
       "DAYS_ID_PUBLISH                          0.056547\n",
       "ONEHOT__WORKING                          0.054532\n",
       "CODE_GENDER                              0.052054\n",
       "ONEHOT__SECONDARY / SECONDARY SPECIAL    0.051104\n",
       "REG_CITY_NOT_WORK_CITY                   0.050482\n",
       "Name: TARGET, dtype: float64"
      ]
     },
     "execution_count": 23,
     "metadata": {},
     "output_type": "execute_result"
    }
   ],
   "source": [
    "# Find correlations with the target and sort\n",
    "correlations = df.corr()['TARGET'].abs().sort_values(ascending=False)\n",
    "correlations[:15]"
   ]
  },
  {
   "cell_type": "code",
   "execution_count": 24,
   "metadata": {},
   "outputs": [
    {
     "data": {
      "text/plain": [
       "-0.08141163185995004"
      ]
     },
     "execution_count": 24,
     "metadata": {},
     "output_type": "execute_result"
    }
   ],
   "source": [
    "# Find the correlation of the positive days since birth and target\n",
    "df['DAYS_BIRTH'] = abs(df['DAYS_BIRTH'])\n",
    "df_test['DAYS_BIRTH'] = abs(df_test['DAYS_BIRTH'])\n",
    "df['DAYS_BIRTH'].corr(df['TARGET'])"
   ]
  },
  {
   "cell_type": "code",
   "execution_count": 25,
   "metadata": {},
   "outputs": [
    {
     "data": {
      "image/png": "[encoded data removed]",
      "text/plain": [
       "<matplotlib.figure.Figure at 0x112c2a400>"
      ]
     },
     "metadata": {},
     "output_type": "display_data"
    }
   ],
   "source": [
    "# Plot the distribution of ages in years\n",
    "plt.hist(df['DAYS_BIRTH'] / 365, edgecolor = 'k', bins = 25)\n",
    "plt.title('Age of Client'); plt.xlabel('Age (years)'); plt.ylabel('Count');"
   ]
  },
  {
   "cell_type": "code",
   "execution_count": 26,
   "metadata": {},
   "outputs": [
    {
     "data": {
      "image/png": "[encoded data removed]",
      "text/plain": [
       "<matplotlib.figure.Figure at 0x113e27cc0>"
      ]
     },
     "metadata": {},
     "output_type": "display_data"
    }
   ],
   "source": [
    "# KDE plot of loans that were repaid on time\n",
    "sns.kdeplot(df.loc[df['TARGET'] == 0, 'DAYS_BIRTH'] / 365, label = 'target 0')\n",
    "\n",
    "# KDE plot of loans which were not repaid on time\n",
    "sns.kdeplot(df.loc[df['TARGET'] == 1, 'DAYS_BIRTH'] / 365, label = 'target 1')\n",
    "\n",
    "plt.xlabel('Age (years)')\n",
    "plt.ylabel('Density')\n",
    "plt.title('Distribution of Ages');"
   ]
  },
  {
   "cell_type": "markdown",
   "metadata": {},
   "source": [
    "The `EXT_SOURCE` features have the highest correlation by far"
   ]
  },
  {
   "cell_type": "code",
   "execution_count": 27,
   "metadata": {},
   "outputs": [
    {
     "data": {
      "text/html": [
       "<div>\n",
       "<style scoped>\n",
       "    .dataframe tbody tr th:only-of-type {\n",
       "        vertical-align: middle;\n",
       "    }\n",
       "\n",
       "    .dataframe tbody tr th {\n",
       "        vertical-align: top;\n",
       "    }\n",
       "\n",
       "    .dataframe thead th {\n",
       "        text-align: right;\n",
       "    }\n",
       "</style>\n",
       "<table border=\"1\" class=\"dataframe\">\n",
       "  <thead>\n",
       "    <tr style=\"text-align: right;\">\n",
       "      <th></th>\n",
       "      <th>TARGET</th>\n",
       "      <th>EXT_SOURCE_1</th>\n",
       "      <th>EXT_SOURCE_2</th>\n",
       "      <th>EXT_SOURCE_3</th>\n",
       "      <th>DAYS_BIRTH</th>\n",
       "    </tr>\n",
       "  </thead>\n",
       "  <tbody>\n",
       "    <tr>\n",
       "      <th>TARGET</th>\n",
       "      <td>1.000000</td>\n",
       "      <td>-0.152267</td>\n",
       "      <td>-0.163760</td>\n",
       "      <td>-0.176517</td>\n",
       "      <td>-0.081412</td>\n",
       "    </tr>\n",
       "    <tr>\n",
       "      <th>EXT_SOURCE_1</th>\n",
       "      <td>-0.152267</td>\n",
       "      <td>1.000000</td>\n",
       "      <td>0.209920</td>\n",
       "      <td>0.181033</td>\n",
       "      <td>0.596296</td>\n",
       "    </tr>\n",
       "    <tr>\n",
       "      <th>EXT_SOURCE_2</th>\n",
       "      <td>-0.163760</td>\n",
       "      <td>0.209920</td>\n",
       "      <td>1.000000</td>\n",
       "      <td>0.112770</td>\n",
       "      <td>0.087071</td>\n",
       "    </tr>\n",
       "    <tr>\n",
       "      <th>EXT_SOURCE_3</th>\n",
       "      <td>-0.176517</td>\n",
       "      <td>0.181033</td>\n",
       "      <td>0.112770</td>\n",
       "      <td>1.000000</td>\n",
       "      <td>0.201564</td>\n",
       "    </tr>\n",
       "    <tr>\n",
       "      <th>DAYS_BIRTH</th>\n",
       "      <td>-0.081412</td>\n",
       "      <td>0.596296</td>\n",
       "      <td>0.087071</td>\n",
       "      <td>0.201564</td>\n",
       "      <td>1.000000</td>\n",
       "    </tr>\n",
       "  </tbody>\n",
       "</table>\n",
       "</div>"
      ],
      "text/plain": [
       "                TARGET  EXT_SOURCE_1  EXT_SOURCE_2  EXT_SOURCE_3  DAYS_BIRTH\n",
       "TARGET        1.000000     -0.152267     -0.163760     -0.176517   -0.081412\n",
       "EXT_SOURCE_1 -0.152267      1.000000      0.209920      0.181033    0.596296\n",
       "EXT_SOURCE_2 -0.163760      0.209920      1.000000      0.112770    0.087071\n",
       "EXT_SOURCE_3 -0.176517      0.181033      0.112770      1.000000    0.201564\n",
       "DAYS_BIRTH   -0.081412      0.596296      0.087071      0.201564    1.000000"
      ]
     },
     "execution_count": 27,
     "metadata": {},
     "output_type": "execute_result"
    }
   ],
   "source": [
    "# Extract the EXT_SOURCE variables and show correlations\n",
    "ext_data = df[['TARGET', 'EXT_SOURCE_1', 'EXT_SOURCE_2', 'EXT_SOURCE_3', 'DAYS_BIRTH']]\n",
    "ext_data_corrs = ext_data.corr()\n",
    "ext_data_corrs"
   ]
  },
  {
   "cell_type": "markdown",
   "metadata": {},
   "source": [
    "## Feature Engineering\n",
    "\n",
    "\"applied machine learning is basically feature engineering.\" -Andrew Ng"
   ]
  },
  {
   "cell_type": "markdown",
   "metadata": {},
   "source": [
    "### Polynomial Features\n"
   ]
  },
  {
   "cell_type": "code",
   "execution_count": 28,
   "metadata": {},
   "outputs": [],
   "source": [
    "poly_features = df[['EXT_SOURCE_1', 'EXT_SOURCE_2', 'EXT_SOURCE_3', 'DAYS_BIRTH']]\n",
    "poly_features_test = df_test[['EXT_SOURCE_1', 'EXT_SOURCE_2', 'EXT_SOURCE_3', 'DAYS_BIRTH']]\n",
    "poly_target = df['TARGET']"
   ]
  },
  {
   "cell_type": "code",
   "execution_count": 29,
   "metadata": {},
   "outputs": [],
   "source": [
    "# hadle missing values\n",
    "imputer = Imputer(strategy='median')\n",
    "poly_features = imputer.fit_transform(poly_features)\n",
    "poly_features_test = imputer.transform(poly_features_test)"
   ]
  },
  {
   "cell_type": "code",
   "execution_count": 30,
   "metadata": {},
   "outputs": [],
   "source": [
    "# train\n",
    "poly_transformer = PolynomialFeatures(degree = 3)\n",
    "poly_transformer.fit(poly_features)\n",
    "\n",
    "poly_features = poly_transformer.transform(poly_features)\n",
    "poly_features_test = poly_transformer.transform(poly_features_test)"
   ]
  },
  {
   "cell_type": "code",
   "execution_count": 31,
   "metadata": {},
   "outputs": [
    {
     "name": "stdout",
     "output_type": "stream",
     "text": [
      "Polynomial Features shape:  (75000, 35)\n"
     ]
    }
   ],
   "source": [
    "print('Polynomial Features shape: ', poly_features.shape)"
   ]
  },
  {
   "cell_type": "code",
   "execution_count": 32,
   "metadata": {},
   "outputs": [
    {
     "data": {
      "text/plain": [
       "['1',\n",
       " 'EXT_SOURCE_1',\n",
       " 'EXT_SOURCE_2',\n",
       " 'EXT_SOURCE_3',\n",
       " 'DAYS_BIRTH',\n",
       " 'EXT_SOURCE_1^2',\n",
       " 'EXT_SOURCE_1 EXT_SOURCE_2',\n",
       " 'EXT_SOURCE_1 EXT_SOURCE_3',\n",
       " 'EXT_SOURCE_1 DAYS_BIRTH',\n",
       " 'EXT_SOURCE_2^2',\n",
       " 'EXT_SOURCE_2 EXT_SOURCE_3',\n",
       " 'EXT_SOURCE_2 DAYS_BIRTH',\n",
       " 'EXT_SOURCE_3^2',\n",
       " 'EXT_SOURCE_3 DAYS_BIRTH',\n",
       " 'DAYS_BIRTH^2',\n",
       " 'EXT_SOURCE_1^3',\n",
       " 'EXT_SOURCE_1^2 EXT_SOURCE_2',\n",
       " 'EXT_SOURCE_1^2 EXT_SOURCE_3',\n",
       " 'EXT_SOURCE_1^2 DAYS_BIRTH',\n",
       " 'EXT_SOURCE_1 EXT_SOURCE_2^2',\n",
       " 'EXT_SOURCE_1 EXT_SOURCE_2 EXT_SOURCE_3',\n",
       " 'EXT_SOURCE_1 EXT_SOURCE_2 DAYS_BIRTH',\n",
       " 'EXT_SOURCE_1 EXT_SOURCE_3^2',\n",
       " 'EXT_SOURCE_1 EXT_SOURCE_3 DAYS_BIRTH',\n",
       " 'EXT_SOURCE_1 DAYS_BIRTH^2',\n",
       " 'EXT_SOURCE_2^3',\n",
       " 'EXT_SOURCE_2^2 EXT_SOURCE_3',\n",
       " 'EXT_SOURCE_2^2 DAYS_BIRTH',\n",
       " 'EXT_SOURCE_2 EXT_SOURCE_3^2',\n",
       " 'EXT_SOURCE_2 EXT_SOURCE_3 DAYS_BIRTH',\n",
       " 'EXT_SOURCE_2 DAYS_BIRTH^2',\n",
       " 'EXT_SOURCE_3^3',\n",
       " 'EXT_SOURCE_3^2 DAYS_BIRTH',\n",
       " 'EXT_SOURCE_3 DAYS_BIRTH^2',\n",
       " 'DAYS_BIRTH^3']"
      ]
     },
     "execution_count": 32,
     "metadata": {},
     "output_type": "execute_result"
    }
   ],
   "source": [
    "poly_transformer.get_feature_names(input_features = ['EXT_SOURCE_1', 'EXT_SOURCE_2', 'EXT_SOURCE_3', 'DAYS_BIRTH'])"
   ]
  },
  {
   "cell_type": "markdown",
   "metadata": {},
   "source": [
    "Now we can check if correlated with target"
   ]
  },
  {
   "cell_type": "code",
   "execution_count": 33,
   "metadata": {},
   "outputs": [],
   "source": [
    "poly_features = pd.DataFrame(poly_features,\n",
    "        columns=poly_transformer.get_feature_names(['EXT_SOURCE_1', 'EXT_SOURCE_2', 'EXT_SOURCE_3', 'DAYS_BIRTH']),\n",
    "    )\n",
    "\n",
    "poly_features_test = pd.DataFrame(poly_features_test,\n",
    "        columns=poly_transformer.get_feature_names(['EXT_SOURCE_1', 'EXT_SOURCE_2', 'EXT_SOURCE_3', 'DAYS_BIRTH']),\n",
    "    )"
   ]
  },
  {
   "cell_type": "code",
   "execution_count": 34,
   "metadata": {},
   "outputs": [],
   "source": [
    "poly_features.index = df.index\n",
    "poly_features_test.index = df_test.index\n",
    "\n",
    "poly_features['TARGET'] = df['TARGET']\n",
    "poly_features.drop(['EXT_SOURCE_1', 'EXT_SOURCE_2', 'EXT_SOURCE_3', 'DAYS_BIRTH', '1'], axis=1, inplace=True)\n",
    "poly_features_test.drop(['EXT_SOURCE_1', 'EXT_SOURCE_2', 'EXT_SOURCE_3', 'DAYS_BIRTH', '1'], axis=1, inplace=True)"
   ]
  },
  {
   "cell_type": "code",
   "execution_count": 35,
   "metadata": {},
   "outputs": [
    {
     "name": "stdout",
     "output_type": "stream",
     "text": [
      "EXT_SOURCE_2 EXT_SOURCE_3                -0.194693\n",
      "EXT_SOURCE_1 EXT_SOURCE_2 EXT_SOURCE_3   -0.190301\n",
      "EXT_SOURCE_2 EXT_SOURCE_3 DAYS_BIRTH     -0.182664\n",
      "EXT_SOURCE_2^2 EXT_SOURCE_3              -0.177336\n",
      "EXT_SOURCE_2 EXT_SOURCE_3^2              -0.172755\n",
      "EXT_SOURCE_1 EXT_SOURCE_2                -0.168233\n",
      "EXT_SOURCE_1 EXT_SOURCE_3                -0.163740\n",
      "EXT_SOURCE_2 DAYS_BIRTH                  -0.160256\n",
      "EXT_SOURCE_1 EXT_SOURCE_2^2              -0.158287\n",
      "EXT_SOURCE_1 EXT_SOURCE_2 DAYS_BIRTH     -0.157983\n",
      "Name: TARGET, dtype: float64\n",
      "EXT_SOURCE_1^2   -0.090253\n",
      "EXT_SOURCE_1^3   -0.082783\n",
      "DAYS_BIRTH^2     -0.078783\n",
      "DAYS_BIRTH^3     -0.075509\n",
      "TARGET            1.000000\n",
      "Name: TARGET, dtype: float64\n"
     ]
    }
   ],
   "source": [
    "poly_corrs = poly_features.corr()['TARGET'].sort_values()\n",
    "\n",
    "# Display most negative and most positive\n",
    "print(poly_corrs.head(10))\n",
    "print(poly_corrs.tail(5))"
   ]
  },
  {
   "cell_type": "code",
   "execution_count": 36,
   "metadata": {},
   "outputs": [],
   "source": [
    "poly_features.drop('TARGET', axis=1, inplace=True)"
   ]
  },
  {
   "cell_type": "code",
   "execution_count": 37,
   "metadata": {},
   "outputs": [],
   "source": [
    "df = df.merge(poly_features, on='SK_ID_CURR', how='left')\n",
    "df_test = df_test.merge(poly_features_test, on='SK_ID_CURR', how='left')"
   ]
  },
  {
   "cell_type": "code",
   "execution_count": 38,
   "metadata": {},
   "outputs": [],
   "source": [
    "df.to_csv('clean_data/train_eda.csv')\n",
    "df_test.to_csv('clean_data/test_eda.csv')"
   ]
  }
 ],
 "metadata": {
  "kernelspec": {
   "display_name": "Python 3",
   "language": "python",
   "name": "python3"
  },
  "language_info": {
   "codemirror_mode": {
    "name": "ipython",
    "version": 3
   },
   "file_extension": ".py",
   "mimetype": "text/x-python",
   "name": "python",
   "nbconvert_exporter": "python",
   "pygments_lexer": "ipython3",
   "version": "3.6.5"
  }
 },
 "nbformat": 4,
 "nbformat_minor": 2
}
