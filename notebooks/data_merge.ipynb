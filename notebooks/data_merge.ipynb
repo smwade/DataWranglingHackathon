{
 "cells": [
  {
   "cell_type": "markdown",
   "metadata": {},
   "source": [
    "# Data Joining\n",
    "Sean Wade"
   ]
  },
  {
   "cell_type": "code",
   "execution_count": 607,
   "metadata": {},
   "outputs": [],
   "source": [
    "import pandas as pd\n",
    "import os\n",
    "import json\n",
    "import numpy as np\n",
    "import pandas_profiling\n",
    "\n",
    "from matplotlib import pyplot as plt\n",
    "%matplotlib inline"
   ]
  },
  {
   "cell_type": "markdown",
   "metadata": {},
   "source": [
    "### Train / Test Index"
   ]
  },
  {
   "cell_type": "code",
   "execution_count": 608,
   "metadata": {},
   "outputs": [],
   "source": [
    "df_train_ids = pd.read_csv('data/train_ids.csv')\n",
    "df_test_ids = pd.read_csv('data/test_ids.csv')"
   ]
  },
  {
   "cell_type": "code",
   "execution_count": 609,
   "metadata": {},
   "outputs": [],
   "source": [
    "df_train_ids.drop('Unnamed: 0', axis=1, inplace=True)\n",
    "df_test_ids.drop('Unnamed: 0', axis=1, inplace=True)"
   ]
  },
  {
   "cell_type": "code",
   "execution_count": 610,
   "metadata": {},
   "outputs": [],
   "source": [
    "df_train_ids.set_index('SK_ID_CURR', inplace=True)\n",
    "df_test_ids.set_index('SK_ID_CURR', inplace=True)"
   ]
  },
  {
   "cell_type": "markdown",
   "metadata": {},
   "source": [
    "### Database Data"
   ]
  },
  {
   "cell_type": "code",
   "execution_count": 611,
   "metadata": {},
   "outputs": [],
   "source": [
    "df_credit_risk = pd.read_csv('data/credit_risk_features.csv')"
   ]
  },
  {
   "cell_type": "code",
   "execution_count": 612,
   "metadata": {},
   "outputs": [],
   "source": [
    "df_credit_risk.drop('Unnamed: 0', axis=1, inplace=True)"
   ]
  },
  {
   "cell_type": "code",
   "execution_count": 613,
   "metadata": {},
   "outputs": [],
   "source": [
    "df_credit_risk.set_index('SK_ID_CURR', inplace=True)"
   ]
  },
  {
   "cell_type": "code",
   "execution_count": 614,
   "metadata": {},
   "outputs": [
    {
     "data": {
      "text/html": [
       "<div>\n",
       "<style scoped>\n",
       "    .dataframe tbody tr th:only-of-type {\n",
       "        vertical-align: middle;\n",
       "    }\n",
       "\n",
       "    .dataframe tbody tr th {\n",
       "        vertical-align: top;\n",
       "    }\n",
       "\n",
       "    .dataframe thead th {\n",
       "        text-align: right;\n",
       "    }\n",
       "</style>\n",
       "<table border=\"1\" class=\"dataframe\">\n",
       "  <thead>\n",
       "    <tr style=\"text-align: right;\">\n",
       "      <th></th>\n",
       "      <th>DEF_60_CNT_SOCIAL_CIRCLE</th>\n",
       "      <th>DAYS_LAST_PHONE_CHANGE</th>\n",
       "      <th>BASEMENTAREA_AVG</th>\n",
       "      <th>ENTRANCES_AVG</th>\n",
       "      <th>FLAG_DOCUMENT_20</th>\n",
       "      <th>FONDKAPREMONT_MODE</th>\n",
       "      <th>CNT_CHILDREN</th>\n",
       "      <th>FLAG_DOCUMENT_15</th>\n",
       "      <th>FLAG_EMAIL</th>\n",
       "      <th>OWN_CAR_AGE</th>\n",
       "    </tr>\n",
       "    <tr>\n",
       "      <th>SK_ID_CURR</th>\n",
       "      <th></th>\n",
       "      <th></th>\n",
       "      <th></th>\n",
       "      <th></th>\n",
       "      <th></th>\n",
       "      <th></th>\n",
       "      <th></th>\n",
       "      <th></th>\n",
       "      <th></th>\n",
       "      <th></th>\n",
       "    </tr>\n",
       "  </thead>\n",
       "  <tbody>\n",
       "    <tr>\n",
       "      <th>100004</th>\n",
       "      <td>0.0</td>\n",
       "      <td>-815.0</td>\n",
       "      <td>NaN</td>\n",
       "      <td>NaN</td>\n",
       "      <td>0</td>\n",
       "      <td>NaN</td>\n",
       "      <td>0</td>\n",
       "      <td>0</td>\n",
       "      <td>0</td>\n",
       "      <td>26.0</td>\n",
       "    </tr>\n",
       "    <tr>\n",
       "      <th>100006</th>\n",
       "      <td>0.0</td>\n",
       "      <td>-617.0</td>\n",
       "      <td>NaN</td>\n",
       "      <td>NaN</td>\n",
       "      <td>0</td>\n",
       "      <td>NaN</td>\n",
       "      <td>0</td>\n",
       "      <td>0</td>\n",
       "      <td>0</td>\n",
       "      <td>NaN</td>\n",
       "    </tr>\n",
       "    <tr>\n",
       "      <th>100012</th>\n",
       "      <td>0.0</td>\n",
       "      <td>-1673.0</td>\n",
       "      <td>NaN</td>\n",
       "      <td>NaN</td>\n",
       "      <td>0</td>\n",
       "      <td>NaN</td>\n",
       "      <td>0</td>\n",
       "      <td>0</td>\n",
       "      <td>0</td>\n",
       "      <td>NaN</td>\n",
       "    </tr>\n",
       "    <tr>\n",
       "      <th>100014</th>\n",
       "      <td>0.0</td>\n",
       "      <td>-844.0</td>\n",
       "      <td>NaN</td>\n",
       "      <td>NaN</td>\n",
       "      <td>0</td>\n",
       "      <td>NaN</td>\n",
       "      <td>1</td>\n",
       "      <td>0</td>\n",
       "      <td>0</td>\n",
       "      <td>NaN</td>\n",
       "    </tr>\n",
       "    <tr>\n",
       "      <th>100015</th>\n",
       "      <td>0.0</td>\n",
       "      <td>-2396.0</td>\n",
       "      <td>NaN</td>\n",
       "      <td>NaN</td>\n",
       "      <td>0</td>\n",
       "      <td>NaN</td>\n",
       "      <td>0</td>\n",
       "      <td>0</td>\n",
       "      <td>0</td>\n",
       "      <td>NaN</td>\n",
       "    </tr>\n",
       "  </tbody>\n",
       "</table>\n",
       "</div>"
      ],
      "text/plain": [
       "            DEF_60_CNT_SOCIAL_CIRCLE  DAYS_LAST_PHONE_CHANGE  \\\n",
       "SK_ID_CURR                                                     \n",
       "100004                           0.0                  -815.0   \n",
       "100006                           0.0                  -617.0   \n",
       "100012                           0.0                 -1673.0   \n",
       "100014                           0.0                  -844.0   \n",
       "100015                           0.0                 -2396.0   \n",
       "\n",
       "            BASEMENTAREA_AVG  ENTRANCES_AVG  FLAG_DOCUMENT_20  \\\n",
       "SK_ID_CURR                                                      \n",
       "100004                   NaN            NaN                 0   \n",
       "100006                   NaN            NaN                 0   \n",
       "100012                   NaN            NaN                 0   \n",
       "100014                   NaN            NaN                 0   \n",
       "100015                   NaN            NaN                 0   \n",
       "\n",
       "           FONDKAPREMONT_MODE  CNT_CHILDREN  FLAG_DOCUMENT_15  FLAG_EMAIL  \\\n",
       "SK_ID_CURR                                                                  \n",
       "100004                    NaN             0                 0           0   \n",
       "100006                    NaN             0                 0           0   \n",
       "100012                    NaN             0                 0           0   \n",
       "100014                    NaN             1                 0           0   \n",
       "100015                    NaN             0                 0           0   \n",
       "\n",
       "            OWN_CAR_AGE  \n",
       "SK_ID_CURR               \n",
       "100004             26.0  \n",
       "100006              NaN  \n",
       "100012              NaN  \n",
       "100014              NaN  \n",
       "100015              NaN  "
      ]
     },
     "execution_count": 614,
     "metadata": {},
     "output_type": "execute_result"
    }
   ],
   "source": [
    "df_credit_risk.head()"
   ]
  },
  {
   "cell_type": "code",
   "execution_count": 615,
   "metadata": {},
   "outputs": [
    {
     "data": {
      "text/plain": [
       "DEF_60_CNT_SOCIAL_CIRCLE    float64\n",
       "DAYS_LAST_PHONE_CHANGE      float64\n",
       "BASEMENTAREA_AVG            float64\n",
       "ENTRANCES_AVG               float64\n",
       "FLAG_DOCUMENT_20              int64\n",
       "FONDKAPREMONT_MODE           object\n",
       "CNT_CHILDREN                  int64\n",
       "FLAG_DOCUMENT_15              int64\n",
       "FLAG_EMAIL                    int64\n",
       "OWN_CAR_AGE                 float64\n",
       "dtype: object"
      ]
     },
     "execution_count": 615,
     "metadata": {},
     "output_type": "execute_result"
    }
   ],
   "source": [
    "df_credit_risk.dtypes"
   ]
  },
  {
   "cell_type": "code",
   "execution_count": 616,
   "metadata": {},
   "outputs": [
    {
     "data": {
      "text/plain": [
       "DEF_60_CNT_SOCIAL_CIRCLE      347\n",
       "DAYS_LAST_PHONE_CHANGE          0\n",
       "BASEMENTAREA_AVG            58445\n",
       "ENTRANCES_AVG               50104\n",
       "FLAG_DOCUMENT_20                0\n",
       "FONDKAPREMONT_MODE          68255\n",
       "CNT_CHILDREN                    0\n",
       "FLAG_DOCUMENT_15                0\n",
       "FLAG_EMAIL                      0\n",
       "OWN_CAR_AGE                 65937\n",
       "dtype: int64"
      ]
     },
     "execution_count": 616,
     "metadata": {},
     "output_type": "execute_result"
    }
   ],
   "source": [
    "df_credit_risk.isnull().sum()"
   ]
  },
  {
   "cell_type": "code",
   "execution_count": 617,
   "metadata": {},
   "outputs": [
    {
     "data": {
      "text/html": [
       "<div>\n",
       "<style scoped>\n",
       "    .dataframe tbody tr th:only-of-type {\n",
       "        vertical-align: middle;\n",
       "    }\n",
       "\n",
       "    .dataframe tbody tr th {\n",
       "        vertical-align: top;\n",
       "    }\n",
       "\n",
       "    .dataframe thead th {\n",
       "        text-align: right;\n",
       "    }\n",
       "</style>\n",
       "<table border=\"1\" class=\"dataframe\">\n",
       "  <thead>\n",
       "    <tr style=\"text-align: right;\">\n",
       "      <th></th>\n",
       "      <th>DEF_60_CNT_SOCIAL_CIRCLE</th>\n",
       "      <th>DAYS_LAST_PHONE_CHANGE</th>\n",
       "      <th>BASEMENTAREA_AVG</th>\n",
       "      <th>ENTRANCES_AVG</th>\n",
       "      <th>FLAG_DOCUMENT_20</th>\n",
       "      <th>CNT_CHILDREN</th>\n",
       "      <th>FLAG_DOCUMENT_15</th>\n",
       "      <th>FLAG_EMAIL</th>\n",
       "      <th>OWN_CAR_AGE</th>\n",
       "    </tr>\n",
       "  </thead>\n",
       "  <tbody>\n",
       "    <tr>\n",
       "      <th>count</th>\n",
       "      <td>99653.000000</td>\n",
       "      <td>100000.000000</td>\n",
       "      <td>41555.000000</td>\n",
       "      <td>49896.000000</td>\n",
       "      <td>100000.000000</td>\n",
       "      <td>100000.000000</td>\n",
       "      <td>100000.000000</td>\n",
       "      <td>100000.000000</td>\n",
       "      <td>34063.000000</td>\n",
       "    </tr>\n",
       "    <tr>\n",
       "      <th>mean</th>\n",
       "      <td>0.101211</td>\n",
       "      <td>-964.469220</td>\n",
       "      <td>0.088648</td>\n",
       "      <td>0.149930</td>\n",
       "      <td>0.000460</td>\n",
       "      <td>0.416790</td>\n",
       "      <td>0.001270</td>\n",
       "      <td>0.057110</td>\n",
       "      <td>12.029856</td>\n",
       "    </tr>\n",
       "    <tr>\n",
       "      <th>std</th>\n",
       "      <td>0.364602</td>\n",
       "      <td>826.789954</td>\n",
       "      <td>0.083451</td>\n",
       "      <td>0.100033</td>\n",
       "      <td>0.021443</td>\n",
       "      <td>0.722026</td>\n",
       "      <td>0.035615</td>\n",
       "      <td>0.232054</td>\n",
       "      <td>11.870149</td>\n",
       "    </tr>\n",
       "    <tr>\n",
       "      <th>min</th>\n",
       "      <td>0.000000</td>\n",
       "      <td>-4131.000000</td>\n",
       "      <td>0.000000</td>\n",
       "      <td>0.000000</td>\n",
       "      <td>0.000000</td>\n",
       "      <td>0.000000</td>\n",
       "      <td>0.000000</td>\n",
       "      <td>0.000000</td>\n",
       "      <td>0.000000</td>\n",
       "    </tr>\n",
       "    <tr>\n",
       "      <th>25%</th>\n",
       "      <td>0.000000</td>\n",
       "      <td>-1576.000000</td>\n",
       "      <td>0.044300</td>\n",
       "      <td>0.069000</td>\n",
       "      <td>0.000000</td>\n",
       "      <td>0.000000</td>\n",
       "      <td>0.000000</td>\n",
       "      <td>0.000000</td>\n",
       "      <td>5.000000</td>\n",
       "    </tr>\n",
       "    <tr>\n",
       "      <th>50%</th>\n",
       "      <td>0.000000</td>\n",
       "      <td>-757.000000</td>\n",
       "      <td>0.076500</td>\n",
       "      <td>0.137900</td>\n",
       "      <td>0.000000</td>\n",
       "      <td>0.000000</td>\n",
       "      <td>0.000000</td>\n",
       "      <td>0.000000</td>\n",
       "      <td>9.000000</td>\n",
       "    </tr>\n",
       "    <tr>\n",
       "      <th>75%</th>\n",
       "      <td>0.000000</td>\n",
       "      <td>-276.000000</td>\n",
       "      <td>0.112000</td>\n",
       "      <td>0.206900</td>\n",
       "      <td>0.000000</td>\n",
       "      <td>1.000000</td>\n",
       "      <td>0.000000</td>\n",
       "      <td>0.000000</td>\n",
       "      <td>15.000000</td>\n",
       "    </tr>\n",
       "    <tr>\n",
       "      <th>max</th>\n",
       "      <td>6.000000</td>\n",
       "      <td>0.000000</td>\n",
       "      <td>1.000000</td>\n",
       "      <td>1.000000</td>\n",
       "      <td>1.000000</td>\n",
       "      <td>19.000000</td>\n",
       "      <td>1.000000</td>\n",
       "      <td>1.000000</td>\n",
       "      <td>91.000000</td>\n",
       "    </tr>\n",
       "  </tbody>\n",
       "</table>\n",
       "</div>"
      ],
      "text/plain": [
       "       DEF_60_CNT_SOCIAL_CIRCLE  DAYS_LAST_PHONE_CHANGE  BASEMENTAREA_AVG  \\\n",
       "count              99653.000000           100000.000000      41555.000000   \n",
       "mean                   0.101211             -964.469220          0.088648   \n",
       "std                    0.364602              826.789954          0.083451   \n",
       "min                    0.000000            -4131.000000          0.000000   \n",
       "25%                    0.000000            -1576.000000          0.044300   \n",
       "50%                    0.000000             -757.000000          0.076500   \n",
       "75%                    0.000000             -276.000000          0.112000   \n",
       "max                    6.000000                0.000000          1.000000   \n",
       "\n",
       "       ENTRANCES_AVG  FLAG_DOCUMENT_20   CNT_CHILDREN  FLAG_DOCUMENT_15  \\\n",
       "count   49896.000000     100000.000000  100000.000000     100000.000000   \n",
       "mean        0.149930          0.000460       0.416790          0.001270   \n",
       "std         0.100033          0.021443       0.722026          0.035615   \n",
       "min         0.000000          0.000000       0.000000          0.000000   \n",
       "25%         0.069000          0.000000       0.000000          0.000000   \n",
       "50%         0.137900          0.000000       0.000000          0.000000   \n",
       "75%         0.206900          0.000000       1.000000          0.000000   \n",
       "max         1.000000          1.000000      19.000000          1.000000   \n",
       "\n",
       "          FLAG_EMAIL   OWN_CAR_AGE  \n",
       "count  100000.000000  34063.000000  \n",
       "mean        0.057110     12.029856  \n",
       "std         0.232054     11.870149  \n",
       "min         0.000000      0.000000  \n",
       "25%         0.000000      5.000000  \n",
       "50%         0.000000      9.000000  \n",
       "75%         0.000000     15.000000  \n",
       "max         1.000000     91.000000  "
      ]
     },
     "execution_count": 617,
     "metadata": {},
     "output_type": "execute_result"
    }
   ],
   "source": [
    "df_credit_risk.describe()"
   ]
  },
  {
   "cell_type": "markdown",
   "metadata": {},
   "source": [
    "### API Data"
   ]
  },
  {
   "cell_type": "code",
   "execution_count": 618,
   "metadata": {},
   "outputs": [],
   "source": [
    "df_api_page = pd.read_csv('data/api_page.csv')"
   ]
  },
  {
   "cell_type": "code",
   "execution_count": 619,
   "metadata": {},
   "outputs": [],
   "source": [
    "df_api_page.drop('Unnamed: 0', axis=1, inplace=True)"
   ]
  },
  {
   "cell_type": "code",
   "execution_count": 620,
   "metadata": {},
   "outputs": [],
   "source": [
    "df_api_page.rename(str.upper, axis='columns', inplace=True)"
   ]
  },
  {
   "cell_type": "code",
   "execution_count": 621,
   "metadata": {},
   "outputs": [],
   "source": [
    "df_api_page.set_index('SK_ID_CURR', inplace=True)"
   ]
  },
  {
   "cell_type": "code",
   "execution_count": 622,
   "metadata": {},
   "outputs": [
    {
     "data": {
      "text/plain": [
       "AMT_REQ_CREDIT_BUREAU_QRT    float64\n",
       "APARTMENTS_AVG               float64\n",
       "DAYS_BIRTH                     int64\n",
       "EMERGENCYSTATE_MODE           object\n",
       "FLAG_DOCUMENT_12                bool\n",
       "FLAG_DOCUMENT_13                bool\n",
       "FLAG_DOCUMENT_9                 bool\n",
       "NAME_EDUCATION_TYPE           object\n",
       "NAME_INCOME_TYPE              object\n",
       "OBS_30_CNT_SOCIAL_CIRCLE       int64\n",
       "dtype: object"
      ]
     },
     "execution_count": 622,
     "metadata": {},
     "output_type": "execute_result"
    }
   ],
   "source": [
    "df_api_page.dtypes"
   ]
  },
  {
   "cell_type": "code",
   "execution_count": 623,
   "metadata": {},
   "outputs": [
    {
     "data": {
      "text/html": [
       "<div>\n",
       "<style scoped>\n",
       "    .dataframe tbody tr th:only-of-type {\n",
       "        vertical-align: middle;\n",
       "    }\n",
       "\n",
       "    .dataframe tbody tr th {\n",
       "        vertical-align: top;\n",
       "    }\n",
       "\n",
       "    .dataframe thead th {\n",
       "        text-align: right;\n",
       "    }\n",
       "</style>\n",
       "<table border=\"1\" class=\"dataframe\">\n",
       "  <thead>\n",
       "    <tr style=\"text-align: right;\">\n",
       "      <th></th>\n",
       "      <th>AMT_REQ_CREDIT_BUREAU_QRT</th>\n",
       "      <th>APARTMENTS_AVG</th>\n",
       "      <th>DAYS_BIRTH</th>\n",
       "      <th>EMERGENCYSTATE_MODE</th>\n",
       "      <th>FLAG_DOCUMENT_12</th>\n",
       "      <th>FLAG_DOCUMENT_13</th>\n",
       "      <th>FLAG_DOCUMENT_9</th>\n",
       "      <th>NAME_EDUCATION_TYPE</th>\n",
       "      <th>NAME_INCOME_TYPE</th>\n",
       "      <th>OBS_30_CNT_SOCIAL_CIRCLE</th>\n",
       "    </tr>\n",
       "    <tr>\n",
       "      <th>SK_ID_CURR</th>\n",
       "      <th></th>\n",
       "      <th></th>\n",
       "      <th></th>\n",
       "      <th></th>\n",
       "      <th></th>\n",
       "      <th></th>\n",
       "      <th></th>\n",
       "      <th></th>\n",
       "      <th></th>\n",
       "      <th></th>\n",
       "    </tr>\n",
       "  </thead>\n",
       "  <tbody>\n",
       "    <tr>\n",
       "      <th>100004</th>\n",
       "      <td>0.0</td>\n",
       "      <td>NaN</td>\n",
       "      <td>-19046</td>\n",
       "      <td>NaN</td>\n",
       "      <td>False</td>\n",
       "      <td>False</td>\n",
       "      <td>False</td>\n",
       "      <td>Secondary / secondary special</td>\n",
       "      <td>Working</td>\n",
       "      <td>0</td>\n",
       "    </tr>\n",
       "    <tr>\n",
       "      <th>100006</th>\n",
       "      <td>NaN</td>\n",
       "      <td>NaN</td>\n",
       "      <td>-19005</td>\n",
       "      <td>NaN</td>\n",
       "      <td>False</td>\n",
       "      <td>False</td>\n",
       "      <td>False</td>\n",
       "      <td>Secondary / secondary special</td>\n",
       "      <td>Working</td>\n",
       "      <td>2</td>\n",
       "    </tr>\n",
       "    <tr>\n",
       "      <th>100012</th>\n",
       "      <td>NaN</td>\n",
       "      <td>NaN</td>\n",
       "      <td>-14469</td>\n",
       "      <td>NaN</td>\n",
       "      <td>False</td>\n",
       "      <td>False</td>\n",
       "      <td>False</td>\n",
       "      <td>Secondary / secondary special</td>\n",
       "      <td>Working</td>\n",
       "      <td>2</td>\n",
       "    </tr>\n",
       "    <tr>\n",
       "      <th>100014</th>\n",
       "      <td>0.0</td>\n",
       "      <td>NaN</td>\n",
       "      <td>-10197</td>\n",
       "      <td>NaN</td>\n",
       "      <td>False</td>\n",
       "      <td>False</td>\n",
       "      <td>False</td>\n",
       "      <td>Higher education</td>\n",
       "      <td>Working</td>\n",
       "      <td>0</td>\n",
       "    </tr>\n",
       "    <tr>\n",
       "      <th>100015</th>\n",
       "      <td>0.0</td>\n",
       "      <td>NaN</td>\n",
       "      <td>-20417</td>\n",
       "      <td>NaN</td>\n",
       "      <td>False</td>\n",
       "      <td>False</td>\n",
       "      <td>False</td>\n",
       "      <td>Secondary / secondary special</td>\n",
       "      <td>Pensioner</td>\n",
       "      <td>0</td>\n",
       "    </tr>\n",
       "  </tbody>\n",
       "</table>\n",
       "</div>"
      ],
      "text/plain": [
       "            AMT_REQ_CREDIT_BUREAU_QRT  APARTMENTS_AVG  DAYS_BIRTH  \\\n",
       "SK_ID_CURR                                                          \n",
       "100004                            0.0             NaN      -19046   \n",
       "100006                            NaN             NaN      -19005   \n",
       "100012                            NaN             NaN      -14469   \n",
       "100014                            0.0             NaN      -10197   \n",
       "100015                            0.0             NaN      -20417   \n",
       "\n",
       "           EMERGENCYSTATE_MODE  FLAG_DOCUMENT_12  FLAG_DOCUMENT_13  \\\n",
       "SK_ID_CURR                                                           \n",
       "100004                     NaN             False             False   \n",
       "100006                     NaN             False             False   \n",
       "100012                     NaN             False             False   \n",
       "100014                     NaN             False             False   \n",
       "100015                     NaN             False             False   \n",
       "\n",
       "            FLAG_DOCUMENT_9            NAME_EDUCATION_TYPE NAME_INCOME_TYPE  \\\n",
       "SK_ID_CURR                                                                    \n",
       "100004                False  Secondary / secondary special          Working   \n",
       "100006                False  Secondary / secondary special          Working   \n",
       "100012                False  Secondary / secondary special          Working   \n",
       "100014                False               Higher education          Working   \n",
       "100015                False  Secondary / secondary special        Pensioner   \n",
       "\n",
       "            OBS_30_CNT_SOCIAL_CIRCLE  \n",
       "SK_ID_CURR                            \n",
       "100004                             0  \n",
       "100006                             2  \n",
       "100012                             2  \n",
       "100014                             0  \n",
       "100015                             0  "
      ]
     },
     "execution_count": 623,
     "metadata": {},
     "output_type": "execute_result"
    }
   ],
   "source": [
    "df_api_page.head()"
   ]
  },
  {
   "cell_type": "markdown",
   "metadata": {},
   "source": [
    "### dataA"
   ]
  },
  {
   "cell_type": "code",
   "execution_count": 624,
   "metadata": {},
   "outputs": [],
   "source": [
    "df_dataA = pd.read_csv('data/dataA.csv')"
   ]
  },
  {
   "cell_type": "code",
   "execution_count": 625,
   "metadata": {},
   "outputs": [],
   "source": [
    "df_dataA.set_index('SK_ID_CURR', inplace=True)"
   ]
  },
  {
   "cell_type": "code",
   "execution_count": 626,
   "metadata": {},
   "outputs": [
    {
     "data": {
      "text/plain": [
       "TOTALAREA_MODE       object\n",
       "FLOORSMIN_AVG        object\n",
       "FLOORSMIN_MODE       object\n",
       "ORGANIZATION_TYPE    object\n",
       "NONLIVINGAREA_AVG    object\n",
       "HOUSETYPE_MODE       object\n",
       "LANDAREA_AVG         object\n",
       "DAYS_ID_PUBLISH       int64\n",
       "ELEVATORS_AVG        object\n",
       "COMMONAREA_MODE      object\n",
       "dtype: object"
      ]
     },
     "execution_count": 626,
     "metadata": {},
     "output_type": "execute_result"
    }
   ],
   "source": [
    "df_dataA.dtypes"
   ]
  },
  {
   "cell_type": "code",
   "execution_count": 627,
   "metadata": {},
   "outputs": [
    {
     "data": {
      "text/html": [
       "<div>\n",
       "<style scoped>\n",
       "    .dataframe tbody tr th:only-of-type {\n",
       "        vertical-align: middle;\n",
       "    }\n",
       "\n",
       "    .dataframe tbody tr th {\n",
       "        vertical-align: top;\n",
       "    }\n",
       "\n",
       "    .dataframe thead th {\n",
       "        text-align: right;\n",
       "    }\n",
       "</style>\n",
       "<table border=\"1\" class=\"dataframe\">\n",
       "  <thead>\n",
       "    <tr style=\"text-align: right;\">\n",
       "      <th></th>\n",
       "      <th>TOTALAREA_MODE</th>\n",
       "      <th>FLOORSMIN_AVG</th>\n",
       "      <th>FLOORSMIN_MODE</th>\n",
       "      <th>ORGANIZATION_TYPE</th>\n",
       "      <th>NONLIVINGAREA_AVG</th>\n",
       "      <th>HOUSETYPE_MODE</th>\n",
       "      <th>LANDAREA_AVG</th>\n",
       "      <th>DAYS_ID_PUBLISH</th>\n",
       "      <th>ELEVATORS_AVG</th>\n",
       "      <th>COMMONAREA_MODE</th>\n",
       "    </tr>\n",
       "    <tr>\n",
       "      <th>SK_ID_CURR</th>\n",
       "      <th></th>\n",
       "      <th></th>\n",
       "      <th></th>\n",
       "      <th></th>\n",
       "      <th></th>\n",
       "      <th></th>\n",
       "      <th></th>\n",
       "      <th></th>\n",
       "      <th></th>\n",
       "      <th></th>\n",
       "    </tr>\n",
       "  </thead>\n",
       "  <tbody>\n",
       "    <tr>\n",
       "      <th>100004</th>\n",
       "      <td>?</td>\n",
       "      <td>?</td>\n",
       "      <td>?</td>\n",
       "      <td>Government</td>\n",
       "      <td>?</td>\n",
       "      <td>?</td>\n",
       "      <td>?</td>\n",
       "      <td>-2531</td>\n",
       "      <td>?</td>\n",
       "      <td>?</td>\n",
       "    </tr>\n",
       "    <tr>\n",
       "      <th>100006</th>\n",
       "      <td>?</td>\n",
       "      <td>?</td>\n",
       "      <td>?</td>\n",
       "      <td>Business Entity Type 3</td>\n",
       "      <td>?</td>\n",
       "      <td>?</td>\n",
       "      <td>?</td>\n",
       "      <td>-2437</td>\n",
       "      <td>?</td>\n",
       "      <td>?</td>\n",
       "    </tr>\n",
       "    <tr>\n",
       "      <th>100012</th>\n",
       "      <td>?</td>\n",
       "      <td>?</td>\n",
       "      <td>?</td>\n",
       "      <td>Electricity</td>\n",
       "      <td>?</td>\n",
       "      <td>?</td>\n",
       "      <td>?</td>\n",
       "      <td>-3992</td>\n",
       "      <td>?</td>\n",
       "      <td>?</td>\n",
       "    </tr>\n",
       "    <tr>\n",
       "      <th>100014</th>\n",
       "      <td>?</td>\n",
       "      <td>?</td>\n",
       "      <td>?</td>\n",
       "      <td>Medicine</td>\n",
       "      <td>?</td>\n",
       "      <td>?</td>\n",
       "      <td>?</td>\n",
       "      <td>-738</td>\n",
       "      <td>?</td>\n",
       "      <td>?</td>\n",
       "    </tr>\n",
       "    <tr>\n",
       "      <th>100015</th>\n",
       "      <td>?</td>\n",
       "      <td>?</td>\n",
       "      <td>?</td>\n",
       "      <td>XNA</td>\n",
       "      <td>?</td>\n",
       "      <td>?</td>\n",
       "      <td>?</td>\n",
       "      <td>-2512</td>\n",
       "      <td>?</td>\n",
       "      <td>?</td>\n",
       "    </tr>\n",
       "  </tbody>\n",
       "</table>\n",
       "</div>"
      ],
      "text/plain": [
       "           TOTALAREA_MODE FLOORSMIN_AVG FLOORSMIN_MODE  \\\n",
       "SK_ID_CURR                                               \n",
       "100004                  ?             ?              ?   \n",
       "100006                  ?             ?              ?   \n",
       "100012                  ?             ?              ?   \n",
       "100014                  ?             ?              ?   \n",
       "100015                  ?             ?              ?   \n",
       "\n",
       "                 ORGANIZATION_TYPE NONLIVINGAREA_AVG HOUSETYPE_MODE  \\\n",
       "SK_ID_CURR                                                            \n",
       "100004                  Government                 ?              ?   \n",
       "100006      Business Entity Type 3                 ?              ?   \n",
       "100012                 Electricity                 ?              ?   \n",
       "100014                    Medicine                 ?              ?   \n",
       "100015                         XNA                 ?              ?   \n",
       "\n",
       "           LANDAREA_AVG  DAYS_ID_PUBLISH ELEVATORS_AVG COMMONAREA_MODE  \n",
       "SK_ID_CURR                                                              \n",
       "100004                ?            -2531             ?               ?  \n",
       "100006                ?            -2437             ?               ?  \n",
       "100012                ?            -3992             ?               ?  \n",
       "100014                ?             -738             ?               ?  \n",
       "100015                ?            -2512             ?               ?  "
      ]
     },
     "execution_count": 627,
     "metadata": {},
     "output_type": "execute_result"
    }
   ],
   "source": [
    "df_dataA.head()"
   ]
  },
  {
   "cell_type": "code",
   "execution_count": 628,
   "metadata": {},
   "outputs": [],
   "source": [
    "df_dataA.replace('?', np.nan, inplace=True)"
   ]
  },
  {
   "cell_type": "code",
   "execution_count": 629,
   "metadata": {},
   "outputs": [
    {
     "data": {
      "text/html": [
       "<div>\n",
       "<style scoped>\n",
       "    .dataframe tbody tr th:only-of-type {\n",
       "        vertical-align: middle;\n",
       "    }\n",
       "\n",
       "    .dataframe tbody tr th {\n",
       "        vertical-align: top;\n",
       "    }\n",
       "\n",
       "    .dataframe thead th {\n",
       "        text-align: right;\n",
       "    }\n",
       "</style>\n",
       "<table border=\"1\" class=\"dataframe\">\n",
       "  <thead>\n",
       "    <tr style=\"text-align: right;\">\n",
       "      <th></th>\n",
       "      <th>TOTALAREA_MODE</th>\n",
       "      <th>FLOORSMIN_AVG</th>\n",
       "      <th>FLOORSMIN_MODE</th>\n",
       "      <th>ORGANIZATION_TYPE</th>\n",
       "      <th>NONLIVINGAREA_AVG</th>\n",
       "      <th>HOUSETYPE_MODE</th>\n",
       "      <th>LANDAREA_AVG</th>\n",
       "      <th>DAYS_ID_PUBLISH</th>\n",
       "      <th>ELEVATORS_AVG</th>\n",
       "      <th>COMMONAREA_MODE</th>\n",
       "    </tr>\n",
       "    <tr>\n",
       "      <th>SK_ID_CURR</th>\n",
       "      <th></th>\n",
       "      <th></th>\n",
       "      <th></th>\n",
       "      <th></th>\n",
       "      <th></th>\n",
       "      <th></th>\n",
       "      <th></th>\n",
       "      <th></th>\n",
       "      <th></th>\n",
       "      <th></th>\n",
       "    </tr>\n",
       "  </thead>\n",
       "  <tbody>\n",
       "    <tr>\n",
       "      <th>100004</th>\n",
       "      <td>NaN</td>\n",
       "      <td>NaN</td>\n",
       "      <td>NaN</td>\n",
       "      <td>Government</td>\n",
       "      <td>NaN</td>\n",
       "      <td>NaN</td>\n",
       "      <td>NaN</td>\n",
       "      <td>-2531</td>\n",
       "      <td>NaN</td>\n",
       "      <td>NaN</td>\n",
       "    </tr>\n",
       "    <tr>\n",
       "      <th>100006</th>\n",
       "      <td>NaN</td>\n",
       "      <td>NaN</td>\n",
       "      <td>NaN</td>\n",
       "      <td>Business Entity Type 3</td>\n",
       "      <td>NaN</td>\n",
       "      <td>NaN</td>\n",
       "      <td>NaN</td>\n",
       "      <td>-2437</td>\n",
       "      <td>NaN</td>\n",
       "      <td>NaN</td>\n",
       "    </tr>\n",
       "    <tr>\n",
       "      <th>100012</th>\n",
       "      <td>NaN</td>\n",
       "      <td>NaN</td>\n",
       "      <td>NaN</td>\n",
       "      <td>Electricity</td>\n",
       "      <td>NaN</td>\n",
       "      <td>NaN</td>\n",
       "      <td>NaN</td>\n",
       "      <td>-3992</td>\n",
       "      <td>NaN</td>\n",
       "      <td>NaN</td>\n",
       "    </tr>\n",
       "    <tr>\n",
       "      <th>100014</th>\n",
       "      <td>NaN</td>\n",
       "      <td>NaN</td>\n",
       "      <td>NaN</td>\n",
       "      <td>Medicine</td>\n",
       "      <td>NaN</td>\n",
       "      <td>NaN</td>\n",
       "      <td>NaN</td>\n",
       "      <td>-738</td>\n",
       "      <td>NaN</td>\n",
       "      <td>NaN</td>\n",
       "    </tr>\n",
       "    <tr>\n",
       "      <th>100015</th>\n",
       "      <td>NaN</td>\n",
       "      <td>NaN</td>\n",
       "      <td>NaN</td>\n",
       "      <td>XNA</td>\n",
       "      <td>NaN</td>\n",
       "      <td>NaN</td>\n",
       "      <td>NaN</td>\n",
       "      <td>-2512</td>\n",
       "      <td>NaN</td>\n",
       "      <td>NaN</td>\n",
       "    </tr>\n",
       "  </tbody>\n",
       "</table>\n",
       "</div>"
      ],
      "text/plain": [
       "           TOTALAREA_MODE FLOORSMIN_AVG FLOORSMIN_MODE  \\\n",
       "SK_ID_CURR                                               \n",
       "100004                NaN           NaN            NaN   \n",
       "100006                NaN           NaN            NaN   \n",
       "100012                NaN           NaN            NaN   \n",
       "100014                NaN           NaN            NaN   \n",
       "100015                NaN           NaN            NaN   \n",
       "\n",
       "                 ORGANIZATION_TYPE NONLIVINGAREA_AVG HOUSETYPE_MODE  \\\n",
       "SK_ID_CURR                                                            \n",
       "100004                  Government               NaN            NaN   \n",
       "100006      Business Entity Type 3               NaN            NaN   \n",
       "100012                 Electricity               NaN            NaN   \n",
       "100014                    Medicine               NaN            NaN   \n",
       "100015                         XNA               NaN            NaN   \n",
       "\n",
       "           LANDAREA_AVG  DAYS_ID_PUBLISH ELEVATORS_AVG COMMONAREA_MODE  \n",
       "SK_ID_CURR                                                              \n",
       "100004              NaN            -2531           NaN             NaN  \n",
       "100006              NaN            -2437           NaN             NaN  \n",
       "100012              NaN            -3992           NaN             NaN  \n",
       "100014              NaN             -738           NaN             NaN  \n",
       "100015              NaN            -2512           NaN             NaN  "
      ]
     },
     "execution_count": 629,
     "metadata": {},
     "output_type": "execute_result"
    }
   ],
   "source": [
    "df_dataA.head()"
   ]
  },
  {
   "cell_type": "markdown",
   "metadata": {},
   "source": [
    "### dataB"
   ]
  },
  {
   "cell_type": "code",
   "execution_count": 630,
   "metadata": {},
   "outputs": [],
   "source": [
    "df_dataB = pd.read_table('data/dataB', low_memory=False)"
   ]
  },
  {
   "cell_type": "code",
   "execution_count": 631,
   "metadata": {},
   "outputs": [],
   "source": [
    "df_dataB = df_dataB[df_dataB['SK_ID_CURR'] != 'cute_cat']\n",
    "df_dataB['SK_ID_CURR'] = df_dataB.SK_ID_CURR.astype(int)"
   ]
  },
  {
   "cell_type": "code",
   "execution_count": 632,
   "metadata": {},
   "outputs": [],
   "source": [
    "df_dataB.set_index('SK_ID_CURR', inplace=True)"
   ]
  },
  {
   "cell_type": "markdown",
   "metadata": {},
   "source": [
    "### dataB_good"
   ]
  },
  {
   "cell_type": "code",
   "execution_count": 633,
   "metadata": {},
   "outputs": [],
   "source": [
    "df_dataB_good = pd.read_table('data/dataB_good', low_memory=False)"
   ]
  },
  {
   "cell_type": "code",
   "execution_count": 634,
   "metadata": {},
   "outputs": [],
   "source": [
    "df_dataB_good.set_index('SK_ID_CURR', inplace=True)"
   ]
  },
  {
   "cell_type": "code",
   "execution_count": 635,
   "metadata": {},
   "outputs": [
    {
     "data": {
      "text/plain": [
       "WEEKDAY_APPR_PROCESS_START     object\n",
       "WALLSMATERIAL_MODE             object\n",
       "FLAG_OWN_CAR                   object\n",
       "AMT_REQ_CREDIT_BUREAU_HOUR    float64\n",
       "FLAG_DOCUMENT_11                int64\n",
       "REGION_POPULATION_RELATIVE    float64\n",
       "NONLIVINGAPARTMENTS_AVG       float64\n",
       "DAYS_EMPLOYED                   int64\n",
       "CNT_FAM_MEMBERS               float64\n",
       "FLAG_DOCUMENT_16                int64\n",
       "dtype: object"
      ]
     },
     "execution_count": 635,
     "metadata": {},
     "output_type": "execute_result"
    }
   ],
   "source": [
    "df_dataB_good.dtypes"
   ]
  },
  {
   "cell_type": "markdown",
   "metadata": {},
   "source": [
    "### dataC"
   ]
  },
  {
   "cell_type": "markdown",
   "metadata": {},
   "source": [
    "This was a Excel file with multiple sheets. Cleaned them in Excel and saved as 3 CSV files."
   ]
  },
  {
   "cell_type": "code",
   "execution_count": 636,
   "metadata": {},
   "outputs": [],
   "source": [
    "df_dataC_1 = pd.read_csv('data/dataC_1.csv')\n",
    "df_dataC_2 = pd.read_csv('data/dataC_2.csv')\n",
    "df_dataC_3 = pd.read_csv('data/dataC_3.csv')"
   ]
  },
  {
   "cell_type": "code",
   "execution_count": 637,
   "metadata": {},
   "outputs": [],
   "source": [
    "df_dataC_1.set_index('SK_ID_CURR', inplace=True)\n",
    "df_dataC_2.set_index('SK_ID_CURR', inplace=True)\n",
    "df_dataC_3.set_index('SK_ID_CURR', inplace=True)"
   ]
  },
  {
   "cell_type": "markdown",
   "metadata": {},
   "source": [
    "### dataD_1"
   ]
  },
  {
   "cell_type": "code",
   "execution_count": 638,
   "metadata": {},
   "outputs": [],
   "source": [
    "df_dataD_1 = pd.read_csv('data/dataD_1.csv', encoding = \"ISO-8859-1\")"
   ]
  },
  {
   "cell_type": "code",
   "execution_count": 639,
   "metadata": {},
   "outputs": [],
   "source": [
    "df_dataD_1.set_index('SK_ID_CURR', inplace=True)"
   ]
  },
  {
   "cell_type": "code",
   "execution_count": 640,
   "metadata": {},
   "outputs": [
    {
     "data": {
      "text/plain": [
       "APARTMENTS_MODE              float64\n",
       "FLAG_DOCUMENT_6                int64\n",
       "FLAG_OWN_REALTY               object\n",
       "NONLIVINGAREA_MEDI           float64\n",
       "FLAG_DOCUMENT_3                int64\n",
       "FLAG_DOCUMENT_4                int64\n",
       "FLAG_DOCUMENT_18               int64\n",
       "NAME_TYPE_SUITE               object\n",
       "FLOORSMAX_MEDI               float64\n",
       "AMT_REQ_CREDIT_BUREAU_DAY    float64\n",
       "dtype: object"
      ]
     },
     "execution_count": 640,
     "metadata": {},
     "output_type": "execute_result"
    }
   ],
   "source": [
    "df_dataD_1.dtypes"
   ]
  },
  {
   "cell_type": "markdown",
   "metadata": {},
   "source": [
    "### dataD"
   ]
  },
  {
   "cell_type": "code",
   "execution_count": 641,
   "metadata": {},
   "outputs": [],
   "source": [
    "df_dataD = pd.read_csv('data/dataD.csv', encoding = \"ISO-8859-1\")"
   ]
  },
  {
   "cell_type": "code",
   "execution_count": 642,
   "metadata": {},
   "outputs": [],
   "source": [
    "df_dataD.set_index('SK_ID_CURR', inplace=True)"
   ]
  },
  {
   "cell_type": "markdown",
   "metadata": {},
   "source": [
    "### dataE_1 and dataE_2"
   ]
  },
  {
   "cell_type": "markdown",
   "metadata": {},
   "source": [
    "Both of these have the data so we must join them to a single dataFrame"
   ]
  },
  {
   "cell_type": "code",
   "execution_count": 643,
   "metadata": {},
   "outputs": [],
   "source": [
    "df_dataE_1 = pd.read_csv('data/dataE-1.tmp')\n",
    "df_dataE_2 = pd.read_csv('data/dataE-2.tmp')"
   ]
  },
  {
   "cell_type": "code",
   "execution_count": 644,
   "metadata": {},
   "outputs": [
    {
     "data": {
      "text/html": [
       "<div>\n",
       "<style scoped>\n",
       "    .dataframe tbody tr th:only-of-type {\n",
       "        vertical-align: middle;\n",
       "    }\n",
       "\n",
       "    .dataframe tbody tr th {\n",
       "        vertical-align: top;\n",
       "    }\n",
       "\n",
       "    .dataframe thead th {\n",
       "        text-align: right;\n",
       "    }\n",
       "</style>\n",
       "<table border=\"1\" class=\"dataframe\">\n",
       "  <thead>\n",
       "    <tr style=\"text-align: right;\">\n",
       "      <th></th>\n",
       "      <th>SK_ID_CURR</th>\n",
       "      <th>FLAG_DOCUMENT_7</th>\n",
       "      <th>AMT_CREDIT</th>\n",
       "      <th>DEF_30_CNT_SOCIAL_CIRCLE</th>\n",
       "      <th>AMT_INCOME_TOTAL</th>\n",
       "      <th>LIVINGAPARTMENTS_AVG</th>\n",
       "      <th>FLAG_DOCUMENT_8</th>\n",
       "      <th>REG_REGION_NOT_WORK_REGION</th>\n",
       "      <th>OBS_60_CNT_SOCIAL_CIRCLE</th>\n",
       "      <th>YEARS_BEGINEXPLUATATION_AVG</th>\n",
       "      <th>FLOORSMAX_AVG</th>\n",
       "    </tr>\n",
       "  </thead>\n",
       "  <tbody>\n",
       "    <tr>\n",
       "      <th>0</th>\n",
       "      <td>100004</td>\n",
       "      <td>0</td>\n",
       "      <td>135000.0</td>\n",
       "      <td>0.0</td>\n",
       "      <td>67500.0</td>\n",
       "      <td>NaN</td>\n",
       "      <td>0</td>\n",
       "      <td>0</td>\n",
       "      <td>0.0</td>\n",
       "      <td>NaN</td>\n",
       "      <td>NaN</td>\n",
       "    </tr>\n",
       "    <tr>\n",
       "      <th>1</th>\n",
       "      <td>100006</td>\n",
       "      <td></td>\n",
       "      <td></td>\n",
       "      <td></td>\n",
       "      <td></td>\n",
       "      <td></td>\n",
       "      <td></td>\n",
       "      <td></td>\n",
       "      <td></td>\n",
       "      <td></td>\n",
       "      <td></td>\n",
       "    </tr>\n",
       "    <tr>\n",
       "      <th>2</th>\n",
       "      <td>100012</td>\n",
       "      <td></td>\n",
       "      <td></td>\n",
       "      <td></td>\n",
       "      <td></td>\n",
       "      <td></td>\n",
       "      <td></td>\n",
       "      <td></td>\n",
       "      <td></td>\n",
       "      <td></td>\n",
       "      <td></td>\n",
       "    </tr>\n",
       "    <tr>\n",
       "      <th>3</th>\n",
       "      <td>100014</td>\n",
       "      <td>0</td>\n",
       "      <td>652500.0</td>\n",
       "      <td>0.0</td>\n",
       "      <td>112500.0</td>\n",
       "      <td>NaN</td>\n",
       "      <td>0</td>\n",
       "      <td>0</td>\n",
       "      <td>0.0</td>\n",
       "      <td>NaN</td>\n",
       "      <td>NaN</td>\n",
       "    </tr>\n",
       "    <tr>\n",
       "      <th>4</th>\n",
       "      <td>100015</td>\n",
       "      <td></td>\n",
       "      <td></td>\n",
       "      <td></td>\n",
       "      <td></td>\n",
       "      <td></td>\n",
       "      <td></td>\n",
       "      <td></td>\n",
       "      <td></td>\n",
       "      <td></td>\n",
       "      <td></td>\n",
       "    </tr>\n",
       "  </tbody>\n",
       "</table>\n",
       "</div>"
      ],
      "text/plain": [
       "   SK_ID_CURR FLAG_DOCUMENT_7 AMT_CREDIT DEF_30_CNT_SOCIAL_CIRCLE  \\\n",
       "0      100004               0   135000.0                      0.0   \n",
       "1      100006                                                       \n",
       "2      100012                                                       \n",
       "3      100014               0   652500.0                      0.0   \n",
       "4      100015                                                       \n",
       "\n",
       "  AMT_INCOME_TOTAL LIVINGAPARTMENTS_AVG FLAG_DOCUMENT_8  \\\n",
       "0          67500.0                  NaN               0   \n",
       "1                                                         \n",
       "2                                                         \n",
       "3         112500.0                  NaN               0   \n",
       "4                                                         \n",
       "\n",
       "  REG_REGION_NOT_WORK_REGION OBS_60_CNT_SOCIAL_CIRCLE  \\\n",
       "0                          0                      0.0   \n",
       "1                                                       \n",
       "2                                                       \n",
       "3                          0                      0.0   \n",
       "4                                                       \n",
       "\n",
       "  YEARS_BEGINEXPLUATATION_AVG FLOORSMAX_AVG  \n",
       "0                         NaN           NaN  \n",
       "1                                            \n",
       "2                                            \n",
       "3                         NaN           NaN  \n",
       "4                                            "
      ]
     },
     "execution_count": 644,
     "metadata": {},
     "output_type": "execute_result"
    }
   ],
   "source": [
    "df_dataE_1.head()"
   ]
  },
  {
   "cell_type": "code",
   "execution_count": 645,
   "metadata": {},
   "outputs": [
    {
     "data": {
      "text/html": [
       "<div>\n",
       "<style scoped>\n",
       "    .dataframe tbody tr th:only-of-type {\n",
       "        vertical-align: middle;\n",
       "    }\n",
       "\n",
       "    .dataframe tbody tr th {\n",
       "        vertical-align: top;\n",
       "    }\n",
       "\n",
       "    .dataframe thead th {\n",
       "        text-align: right;\n",
       "    }\n",
       "</style>\n",
       "<table border=\"1\" class=\"dataframe\">\n",
       "  <thead>\n",
       "    <tr style=\"text-align: right;\">\n",
       "      <th></th>\n",
       "      <th>SK_ID_CURR</th>\n",
       "      <th>FLAG_DOCUMENT_7</th>\n",
       "      <th>AMT_CREDIT</th>\n",
       "      <th>DEF_30_CNT_SOCIAL_CIRCLE</th>\n",
       "      <th>AMT_INCOME_TOTAL</th>\n",
       "      <th>LIVINGAPARTMENTS_AVG</th>\n",
       "      <th>FLAG_DOCUMENT_8</th>\n",
       "      <th>REG_REGION_NOT_WORK_REGION</th>\n",
       "      <th>OBS_60_CNT_SOCIAL_CIRCLE</th>\n",
       "      <th>YEARS_BEGINEXPLUATATION_AVG</th>\n",
       "      <th>FLOORSMAX_AVG</th>\n",
       "    </tr>\n",
       "  </thead>\n",
       "  <tbody>\n",
       "    <tr>\n",
       "      <th>0</th>\n",
       "      <td>100004</td>\n",
       "      <td></td>\n",
       "      <td></td>\n",
       "      <td></td>\n",
       "      <td></td>\n",
       "      <td></td>\n",
       "      <td></td>\n",
       "      <td></td>\n",
       "      <td></td>\n",
       "      <td></td>\n",
       "      <td></td>\n",
       "    </tr>\n",
       "    <tr>\n",
       "      <th>1</th>\n",
       "      <td>100006</td>\n",
       "      <td>0</td>\n",
       "      <td>312682.5</td>\n",
       "      <td>0.0</td>\n",
       "      <td>135000.0</td>\n",
       "      <td>NaN</td>\n",
       "      <td>0</td>\n",
       "      <td>0</td>\n",
       "      <td>2.0</td>\n",
       "      <td>NaN</td>\n",
       "      <td>NaN</td>\n",
       "    </tr>\n",
       "    <tr>\n",
       "      <th>2</th>\n",
       "      <td>100012</td>\n",
       "      <td>0</td>\n",
       "      <td>405000.0</td>\n",
       "      <td>0.0</td>\n",
       "      <td>135000.0</td>\n",
       "      <td>NaN</td>\n",
       "      <td>0</td>\n",
       "      <td>0</td>\n",
       "      <td>2.0</td>\n",
       "      <td>NaN</td>\n",
       "      <td>NaN</td>\n",
       "    </tr>\n",
       "    <tr>\n",
       "      <th>3</th>\n",
       "      <td>100014</td>\n",
       "      <td></td>\n",
       "      <td></td>\n",
       "      <td></td>\n",
       "      <td></td>\n",
       "      <td></td>\n",
       "      <td></td>\n",
       "      <td></td>\n",
       "      <td></td>\n",
       "      <td></td>\n",
       "      <td></td>\n",
       "    </tr>\n",
       "    <tr>\n",
       "      <th>4</th>\n",
       "      <td>100015</td>\n",
       "      <td>0</td>\n",
       "      <td>148365.0</td>\n",
       "      <td>0.0</td>\n",
       "      <td>38419.155</td>\n",
       "      <td>NaN</td>\n",
       "      <td>0</td>\n",
       "      <td>0</td>\n",
       "      <td>0.0</td>\n",
       "      <td>NaN</td>\n",
       "      <td>NaN</td>\n",
       "    </tr>\n",
       "  </tbody>\n",
       "</table>\n",
       "</div>"
      ],
      "text/plain": [
       "   SK_ID_CURR FLAG_DOCUMENT_7 AMT_CREDIT DEF_30_CNT_SOCIAL_CIRCLE  \\\n",
       "0      100004                                                       \n",
       "1      100006               0   312682.5                      0.0   \n",
       "2      100012               0   405000.0                      0.0   \n",
       "3      100014                                                       \n",
       "4      100015               0   148365.0                      0.0   \n",
       "\n",
       "  AMT_INCOME_TOTAL LIVINGAPARTMENTS_AVG FLAG_DOCUMENT_8  \\\n",
       "0                                                         \n",
       "1         135000.0                  NaN               0   \n",
       "2         135000.0                  NaN               0   \n",
       "3                                                         \n",
       "4        38419.155                  NaN               0   \n",
       "\n",
       "  REG_REGION_NOT_WORK_REGION OBS_60_CNT_SOCIAL_CIRCLE  \\\n",
       "0                                                       \n",
       "1                          0                      2.0   \n",
       "2                          0                      2.0   \n",
       "3                                                       \n",
       "4                          0                      0.0   \n",
       "\n",
       "  YEARS_BEGINEXPLUATATION_AVG FLOORSMAX_AVG  \n",
       "0                                            \n",
       "1                         NaN           NaN  \n",
       "2                         NaN           NaN  \n",
       "3                                            \n",
       "4                         NaN           NaN  "
      ]
     },
     "execution_count": 645,
     "metadata": {},
     "output_type": "execute_result"
    }
   ],
   "source": [
    "df_dataE_2.head()"
   ]
  },
  {
   "cell_type": "code",
   "execution_count": 646,
   "metadata": {},
   "outputs": [],
   "source": [
    "df_dataE_1 = df_dataE_1[df_dataE_1['FLAG_DOCUMENT_7'] != ' ']\n",
    "df_dataE_2 = df_dataE_2[df_dataE_2['FLAG_DOCUMENT_7'] != ' ']"
   ]
  },
  {
   "cell_type": "code",
   "execution_count": 647,
   "metadata": {},
   "outputs": [],
   "source": [
    "df_dataE = pd.merge(df_dataE_1, df_dataE_2, how='outer', on='SK_ID_CURR')"
   ]
  },
  {
   "cell_type": "code",
   "execution_count": 648,
   "metadata": {},
   "outputs": [],
   "source": [
    "df_dataE.set_index('SK_ID_CURR', inplace=True)"
   ]
  },
  {
   "cell_type": "markdown",
   "metadata": {},
   "source": [
    "### dataF"
   ]
  },
  {
   "cell_type": "code",
   "execution_count": 649,
   "metadata": {},
   "outputs": [],
   "source": [
    "df_dataF = pd.read_csv('data/dataF.csv')"
   ]
  },
  {
   "cell_type": "code",
   "execution_count": 650,
   "metadata": {},
   "outputs": [],
   "source": [
    "df_dataF.rename(str.upper, axis='columns', inplace=True)"
   ]
  },
  {
   "cell_type": "code",
   "execution_count": 651,
   "metadata": {},
   "outputs": [],
   "source": [
    "df_dataF.set_index('SK_ID_CURR', inplace=True)"
   ]
  },
  {
   "cell_type": "code",
   "execution_count": 652,
   "metadata": {},
   "outputs": [
    {
     "data": {
      "text/plain": [
       "REGION_RATING_CLIENT_W_CITY        int64\n",
       "EXT_SOURCE_1                     float64\n",
       "DAYS_REGISTRATION                float64\n",
       "EXT_SOURCE_3                     float64\n",
       "LIVINGAREA_MEDI                  float64\n",
       "HOUR_APPR_PROCESS_START            int64\n",
       "FLOORSMIN_MEDI                   float64\n",
       "FLAG_DOCUMENT_14                   int64\n",
       "OCCUPATION_TYPE                   object\n",
       "LANDAREA_MEDI                    float64\n",
       "REGION_RATING_CLIENT_W_CITY.1      int64\n",
       "EXT_SOURCE_1.1                   float64\n",
       "DAYS_REGISTRATION.1              float64\n",
       "EXT_SOURCE_3.1                   float64\n",
       "LIVINGAREA_MEDI.1                float64\n",
       "HOUR_APPR_PROCESS_START.1          int64\n",
       "FLOORSMIN_MEDI.1                 float64\n",
       "FLAG_DOCUMENT_14.1                 int64\n",
       "OCCUPATION_TYPE.1                 object\n",
       "LANDAREA_MEDI.1                  float64\n",
       "dtype: object"
      ]
     },
     "execution_count": 652,
     "metadata": {},
     "output_type": "execute_result"
    }
   ],
   "source": [
    "df_dataF.dtypes"
   ]
  },
  {
   "cell_type": "markdown",
   "metadata": {},
   "source": [
    "### dataG"
   ]
  },
  {
   "cell_type": "code",
   "execution_count": 653,
   "metadata": {},
   "outputs": [],
   "source": [
    "g_parts = []\n",
    "\n",
    "for part in os.listdir('data/dataG/'):\n",
    "    g_parts.append(pd.read_csv(os.path.join('./data/dataG', part)))\n",
    "    \n",
    "df_dataG = pd.concat(g_parts)"
   ]
  },
  {
   "cell_type": "code",
   "execution_count": 654,
   "metadata": {},
   "outputs": [],
   "source": [
    "df_dataG.set_index('SK_ID_CURR', inplace=True)"
   ]
  },
  {
   "cell_type": "code",
   "execution_count": 655,
   "metadata": {},
   "outputs": [
    {
     "data": {
      "text/plain": [
       "FLAG_DOCUMENT_21             int64\n",
       "FLAG_PHONE                   int64\n",
       "YEARS_BUILD_AVG            float64\n",
       "COMMONAREA_AVG             float64\n",
       "LIVE_CITY_NOT_WORK_CITY      int64\n",
       "REG_CITY_NOT_LIVE_CITY       int64\n",
       "LIVINGAPARTMENTS_MEDI      float64\n",
       "FLAG_DOCUMENT_10             int64\n",
       "FLAG_DOCUMENT_17             int64\n",
       "AMT_GOODS_PRICE             object\n",
       "dtype: object"
      ]
     },
     "execution_count": 655,
     "metadata": {},
     "output_type": "execute_result"
    }
   ],
   "source": [
    "df_dataG.dtypes"
   ]
  },
  {
   "cell_type": "markdown",
   "metadata": {},
   "source": [
    "### dataZ_best\n",
    "\n",
    "Even though this is named `CSV` it is a json file."
   ]
  },
  {
   "cell_type": "code",
   "execution_count": 656,
   "metadata": {},
   "outputs": [],
   "source": [
    "with open('data/dataZ_best.csv') as f:\n",
    "    dataZ_best = json.load(f)"
   ]
  },
  {
   "cell_type": "code",
   "execution_count": 657,
   "metadata": {},
   "outputs": [],
   "source": [
    "df_dataZ = pd.DataFrame(dataZ_best)\n",
    "df_dataZ.index = df_dataZ.index.astype(np.int64)\n",
    "df_dataZ.index.name = 'SK_ID_CURR'"
   ]
  },
  {
   "cell_type": "code",
   "execution_count": 658,
   "metadata": {},
   "outputs": [
    {
     "data": {
      "text/plain": [
       "AMT_ANNUITY               float64\n",
       "CODE_GENDER                object\n",
       "EXT_SOURCE_2               object\n",
       "FLAG_DOCUMENT_5             int64\n",
       "FLAG_EMP_PHONE              int64\n",
       "FLAG_WORK_PHONE             int64\n",
       "IS_KAEL                   float64\n",
       "LIVINGAREA_AVG            float64\n",
       "NAME_FAMILY_STATUS         object\n",
       "REGION_RATING_CLIENT       object\n",
       "REG_CITY_NOT_WORK_CITY      int64\n",
       "dtype: object"
      ]
     },
     "execution_count": 658,
     "metadata": {},
     "output_type": "execute_result"
    }
   ],
   "source": [
    "df_dataZ.dtypes"
   ]
  },
  {
   "cell_type": "code",
   "execution_count": 659,
   "metadata": {},
   "outputs": [],
   "source": [
    "df_dataZ['CODE_GENDER'] = df_dataZ['CODE_GENDER'].replace('M', 1)\n",
    "df_dataZ['CODE_GENDER'] = df_dataZ['CODE_GENDER'].replace('F', 0)\n",
    "df_dataZ['CODE_GENDER'] = df_dataZ['CODE_GENDER'].astype(bool)"
   ]
  },
  {
   "cell_type": "code",
   "execution_count": 660,
   "metadata": {},
   "outputs": [
    {
     "name": "stderr",
     "output_type": "stream",
     "text": [
      "/usr/local/lib/python3.6/site-packages/pandas/core/indexing.py:194: SettingWithCopyWarning: \n",
      "A value is trying to be set on a copy of a slice from a DataFrame\n",
      "\n",
      "See the caveats in the documentation: http://pandas.pydata.org/pandas-docs/stable/indexing.html#indexing-view-versus-copy\n",
      "  \n"
     ]
    }
   ],
   "source": [
    "# remove junk value\n",
    "df_dataZ['REGION_RATING_CLIENT'].iloc[0] = 2"
   ]
  },
  {
   "cell_type": "code",
   "execution_count": 661,
   "metadata": {},
   "outputs": [],
   "source": [
    "df_dataZ['REG_CITY_NOT_WORK_CITY'] = df_dataZ['REG_CITY_NOT_WORK_CITY'].astype(bool)"
   ]
  },
  {
   "cell_type": "code",
   "execution_count": 662,
   "metadata": {},
   "outputs": [],
   "source": [
    "# deleted when realized this was the same as the TARGET. perfect correlation\n",
    "df_dataZ.drop('IS_KAEL', axis=1, inplace=True)"
   ]
  },
  {
   "cell_type": "code",
   "execution_count": 663,
   "metadata": {},
   "outputs": [],
   "source": [
    "df_dataZ.EXT_SOURCE_2 = df_dataZ.EXT_SOURCE_2.apply(lambda x : float(x[:-1]))"
   ]
  },
  {
   "cell_type": "markdown",
   "metadata": {},
   "source": [
    "## Merge Data Frames"
   ]
  },
  {
   "cell_type": "code",
   "execution_count": 664,
   "metadata": {},
   "outputs": [],
   "source": [
    "data_frames = [\n",
    "    df_api_page, \n",
    "    df_credit_risk, \n",
    "    df_dataA, \n",
    "    df_dataB,\n",
    "    df_dataC_1,\n",
    "    df_dataC_2,\n",
    "    df_dataC_3,\n",
    "    df_dataD,\n",
    "    df_dataD_1,\n",
    "    df_dataE,\n",
    "    df_dataF,\n",
    "    df_dataG,\n",
    "    df_dataZ\n",
    "]"
   ]
  },
  {
   "cell_type": "code",
   "execution_count": 665,
   "metadata": {},
   "outputs": [],
   "source": [
    "df = data_frames[0]\n",
    "for df_sec in data_frames[1:]:\n",
    "    df = pd.merge(df, df_sec, left_index=True, right_index=True, how='outer')"
   ]
  },
  {
   "cell_type": "code",
   "execution_count": 666,
   "metadata": {},
   "outputs": [
    {
     "data": {
      "text/plain": [
       "(100000, 140)"
      ]
     },
     "execution_count": 666,
     "metadata": {},
     "output_type": "execute_result"
    }
   ],
   "source": [
    "df.shape"
   ]
  },
  {
   "cell_type": "markdown",
   "metadata": {},
   "source": [
    "## Fix Merge Conflicts"
   ]
  },
  {
   "cell_type": "code",
   "execution_count": 667,
   "metadata": {},
   "outputs": [],
   "source": [
    "merge_conflict_cols_x = df.filter(regex=(\"x$\")).columns.tolist()\n",
    "merge_conflict_cols_y = df.filter(regex=(\"y$\")).columns.tolist()\n",
    "\n",
    "same_cols = []\n",
    "diff_cols = []\n",
    "\n",
    "for x_col, y_col in zip(merge_conflict_cols_x, merge_conflict_cols_y):\n",
    "    conflict_num = (df[x_col] != df[y_col]).sum()\n",
    "    if conflict_num > 0:\n",
    "        diff_cols.append(x_col[:-2])\n",
    "    else:\n",
    "        same_cols.append(x_col[:-2])"
   ]
  },
  {
   "cell_type": "code",
   "execution_count": 668,
   "metadata": {},
   "outputs": [],
   "source": [
    "def fix_merge_conflict(x, y):\n",
    "    new_col = x.copy()\n",
    "    new_col[:] = np.nan\n",
    "\n",
    "    new_col[y.isna() & x.isna()] = np.nan # set both nans to nan\n",
    "    new_col[y.notna() & x.isna()] = y[y.notna() & x.isna()]\n",
    "    new_col[y.isna() & x.notna()] = x[y.isna() & x.notna()]\n",
    "    return new_col"
   ]
  },
  {
   "cell_type": "code",
   "execution_count": 669,
   "metadata": {},
   "outputs": [],
   "source": [
    "for col in diff_cols:\n",
    "    x = df[col + '_x']\n",
    "    y = df[col + '_y']\n",
    "    new_col = fix_merge_conflict(x, y)\n",
    "    df.drop([col + '_x', col + '_y'], axis=1, inplace=True)\n",
    "    df[col] = new_col"
   ]
  },
  {
   "cell_type": "markdown",
   "metadata": {},
   "source": [
    "## Standardize all Booleans"
   ]
  },
  {
   "cell_type": "code",
   "execution_count": 670,
   "metadata": {
    "scrolled": false
   },
   "outputs": [
    {
     "name": "stdout",
     "output_type": "stream",
     "text": [
      "False    100000\n",
      "Name: FLAG_DOCUMENT_12, dtype: int64 \n",
      "\n",
      "False    99638\n",
      "True       362\n",
      "Name: FLAG_DOCUMENT_13, dtype: int64 \n",
      "\n",
      "False    99603\n",
      "True       397\n",
      "Name: FLAG_DOCUMENT_9, dtype: int64 \n",
      "\n",
      "0    99954\n",
      "1       46\n",
      "Name: FLAG_DOCUMENT_20, dtype: int64 \n",
      "\n",
      "0    99873\n",
      "1      127\n",
      "Name: FLAG_DOCUMENT_15, dtype: int64 \n",
      "\n",
      "0    94289\n",
      "1     5711\n",
      "Name: FLAG_EMAIL, dtype: int64 \n",
      "\n",
      "N    65933\n",
      "Y    34067\n",
      "Name: FLAG_OWN_CAR, dtype: int64 \n",
      "\n",
      "0    99613\n",
      "1      387\n",
      "Name: FLAG_DOCUMENT_11, dtype: int64 \n",
      "\n",
      "0    98998\n",
      "1     1002\n",
      "Name: FLAG_DOCUMENT_16, dtype: int64 \n",
      "\n",
      "0    99716\n",
      "1      284\n",
      "Name: FLAG_DOCUMENT_14, dtype: int64 \n",
      "\n",
      "0    99716\n",
      "1      284\n",
      "Name: FLAG_DOCUMENT_14.1, dtype: int64 \n",
      "\n",
      "0    99959\n",
      "1       41\n",
      "Name: FLAG_DOCUMENT_21, dtype: int64 \n",
      "\n",
      "0    71801\n",
      "1    28199\n",
      "Name: FLAG_PHONE, dtype: int64 \n",
      "\n",
      "0    99999\n",
      "1        1\n",
      "Name: FLAG_DOCUMENT_10, dtype: int64 \n",
      "\n",
      "0    99974\n",
      "1       26\n",
      "Name: FLAG_DOCUMENT_17, dtype: int64 \n",
      "\n",
      "0    98489\n",
      "1     1511\n",
      "Name: FLAG_DOCUMENT_5, dtype: int64 \n",
      "\n",
      "1    81965\n",
      "0    18035\n",
      "Name: FLAG_EMP_PHONE, dtype: int64 \n",
      "\n",
      "0    80245\n",
      "1    19755\n",
      "Name: FLAG_WORK_PHONE, dtype: int64 \n",
      "\n",
      "0.0    99995\n",
      "1.0        5\n",
      "Name: FLAG_DOCUMENT_2, dtype: int64 \n",
      "\n",
      "Nay    49967\n",
      "0.0    49963\n",
      "1.0       37\n",
      "Yay       33\n",
      "Name: FLAG_DOCUMENT_19, dtype: int64 \n",
      "\n",
      "0.0    90672\n",
      "1.0     8829\n",
      "Name: FLAG_DOCUMENT_6, dtype: int64 \n",
      "\n",
      "Y    69327\n",
      "N    30174\n",
      "Name: FLAG_OWN_REALTY, dtype: int64 \n",
      "\n",
      "1.0    70537\n",
      "0.0    28964\n",
      "Name: FLAG_DOCUMENT_3, dtype: int64 \n",
      "\n",
      "0.0    99492\n",
      "1.0        9\n",
      "Name: FLAG_DOCUMENT_4, dtype: int64 \n",
      "\n",
      "0.0    98714\n",
      "1.0      787\n",
      "Name: FLAG_DOCUMENT_18, dtype: int64 \n",
      "\n",
      "0    99985\n",
      "1       15\n",
      "Name: FLAG_DOCUMENT_7, dtype: int64 \n",
      "\n",
      "0    91832\n",
      "1     8168\n",
      "Name: FLAG_DOCUMENT_8, dtype: int64 \n",
      "\n"
     ]
    }
   ],
   "source": [
    "for col in df.filter(regex=(\"FLAG*\")).columns.tolist():\n",
    "    print(df[col].value_counts(), '\\n')"
   ]
  },
  {
   "cell_type": "code",
   "execution_count": 671,
   "metadata": {},
   "outputs": [],
   "source": [
    "df.drop('FLAG_DOCUMENT_12', axis=1, inplace=True)"
   ]
  },
  {
   "cell_type": "code",
   "execution_count": 672,
   "metadata": {},
   "outputs": [],
   "source": [
    "df['FLAG_DOCUMENT_19'].replace('Yay', 1, inplace=True)\n",
    "df['FLAG_DOCUMENT_19'].replace('Nay', 0, inplace=True)\n",
    "\n",
    "df['FLAG_OWN_REALTY'].replace('Y', 1, inplace=True)\n",
    "df['FLAG_OWN_REALTY'].replace('N', 0, inplace=True)\n",
    "\n",
    "df['FLAG_OWN_CAR'].replace('Y', 1, inplace=True)\n",
    "df['FLAG_OWN_CAR'].replace('N', 0, inplace=True)\n",
    "\n",
    "df['FLAG_DOCUMENT_7'].replace('1', 1, inplace=True)\n",
    "df['FLAG_DOCUMENT_7'].replace('0', 0, inplace=True)\n",
    "\n",
    "df['FLAG_DOCUMENT_8'].replace('1', 1, inplace=True)\n",
    "df['FLAG_DOCUMENT_8'].replace('0', 0, inplace=True)\n",
    "\n",
    "df['EMERGENCYSTATE_MODE'].replace('Yes', 1, inplace=True)\n",
    "df['EMERGENCYSTATE_MODE'].replace('No', 0, inplace=True)"
   ]
  },
  {
   "cell_type": "code",
   "execution_count": 673,
   "metadata": {},
   "outputs": [],
   "source": [
    "for col in df.filter(regex=(\"FLAG*\")).columns.tolist():\n",
    "    if not df[col].isna().any():\n",
    "        df[col] = df[col].astype('bool')"
   ]
  },
  {
   "cell_type": "markdown",
   "metadata": {},
   "source": [
    "## Convert to Float"
   ]
  },
  {
   "cell_type": "code",
   "execution_count": 674,
   "metadata": {},
   "outputs": [],
   "source": [
    "df['AMT_GOODS_PRICE'] = df['AMT_GOODS_PRICE'].apply(lambda x: float(x.replace('€', '')))"
   ]
  },
  {
   "cell_type": "code",
   "execution_count": 675,
   "metadata": {},
   "outputs": [],
   "source": [
    "to_convert = [\n",
    "    'AMT_CREDIT',\n",
    "    'AMT_INCOME_TOTAL',\n",
    "    'COMMONAREA_MODE',\n",
    "    'ELEVATORS_AVG',\n",
    "    'FLOORSMAX_AVG',\n",
    "    'FLOORSMIN_AVG',\n",
    "    'LANDAREA_AVG',\n",
    "    'LIVINGAPARTMENTS_AVG',\n",
    "    'NONLIVINGAREA_AVG',\n",
    "    'TOTALAREA_MODE',\n",
    "    \"YEARS_BEGINEXPLUATATION_AVG\" \n",
    "]"
   ]
  },
  {
   "cell_type": "code",
   "execution_count": 676,
   "metadata": {},
   "outputs": [],
   "source": [
    "for col in to_convert:\n",
    "    df[col] = df[col].astype('float')"
   ]
  },
  {
   "cell_type": "markdown",
   "metadata": {},
   "source": [
    "## Remove High Correlations\n",
    "\n",
    "Drop all features with correlation greater than .9 "
   ]
  },
  {
   "cell_type": "code",
   "execution_count": 677,
   "metadata": {},
   "outputs": [],
   "source": [
    "to_remove = [\n",
    "     'APARTMENTS_MODE',\n",
    "     'AMT_CREDIT',\n",
    "     'COMMONAREA_AVG',\n",
    "     'DAYS_REGISTRATION.1',\n",
    "     'EXT_SOURCE_1.1',\n",
    "     'EXT_SOURCE_3.1',\n",
    "     'FLAG_DOCUMENT_14.1',\n",
    "     'FLOORSMAX_AVG',\n",
    "     'FLOORSMAX_MEDI',\n",
    "     'FLOORSMIN_MEDI',\n",
    "     'FLOORSMIN_MEDI.1',\n",
    "     'HOUR_APPR_PROCESS_START.1',\n",
    "     'LANDAREA_MEDI',\n",
    "     'LANDAREA_MEDI.1',\n",
    "     'LIVINGAREA_MEDI.1',\n",
    "     'NONLIVINGAPARTMENTS_MEDI',\n",
    "     'NONLIVINGAREA_MEDI',\n",
    "     'REGION_RATING_CLIENT_W_CITY.1',\n",
    "     'LIVINGAPARTMENTS_AVG',\n",
    "     'LIVINGAPARTMENTS_MEDI',\n",
    "     'LIVINGAREA_MEDI'\n",
    "]"
   ]
  },
  {
   "cell_type": "code",
   "execution_count": 678,
   "metadata": {},
   "outputs": [],
   "source": [
    "df.drop(to_remove, axis=1, inplace=True)"
   ]
  },
  {
   "cell_type": "markdown",
   "metadata": {},
   "source": [
    "Possible TODO, check hugh correlations for exact matches with some extra data"
   ]
  },
  {
   "cell_type": "markdown",
   "metadata": {},
   "source": [
    "## Pandas Profiling"
   ]
  },
  {
   "cell_type": "code",
   "execution_count": 679,
   "metadata": {},
   "outputs": [],
   "source": [
    "profile = pandas_profiling.ProfileReport(df)\n",
    "profile.to_file(outputfile=\"profile.html\")"
   ]
  },
  {
   "cell_type": "markdown",
   "metadata": {},
   "source": [
    "## Break to Train/Test"
   ]
  },
  {
   "cell_type": "code",
   "execution_count": 680,
   "metadata": {},
   "outputs": [],
   "source": [
    "# break into test-train datasets\n",
    "df_train = df_train_ids.join(df)\n",
    "df_test = df_test_ids.join(df)\n",
    "df_test.drop('TARGET', axis=1, inplace=True)"
   ]
  },
  {
   "cell_type": "code",
   "execution_count": 682,
   "metadata": {},
   "outputs": [],
   "source": [
    "df_train.to_csv('clean_data/train_merge.csv')\n",
    "df_test.to_csv('clean_data/test_merge.csv')"
   ]
  }
 ],
 "metadata": {
  "kernelspec": {
   "display_name": "Python 3",
   "language": "python",
   "name": "python3"
  },
  "language_info": {
   "codemirror_mode": {
    "name": "ipython",
    "version": 3
   },
   "file_extension": ".py",
   "mimetype": "text/x-python",
   "name": "python",
   "nbconvert_exporter": "python",
   "pygments_lexer": "ipython3",
   "version": "3.6.5"
  }
 },
 "nbformat": 4,
 "nbformat_minor": 2
}
